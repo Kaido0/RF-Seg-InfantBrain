{
 "cells": [
  {
   "cell_type": "markdown",
   "metadata": {},
   "source": [
    "## Parament"
   ]
  },
  {
   "cell_type": "code",
   "execution_count": 89,
   "metadata": {},
   "outputs": [],
   "source": [
    "%matplotlib inline\n",
    "import os\n",
    "import numpy as np\n",
    "import math\n",
    "import SimpleITK as sitk\n",
    "import matplotlib.pyplot as plt\n",
    "from PIL import Image\n",
    "from scipy import misc\n",
    "from sklearn.utils import shuffle\n",
    "import time\n",
    "patch_size=7\n",
    "num_classes = 3\n",
    "layer=28 #要分割第几层\n",
    "\n",
    "test_path = 'datasets/testdata'\n",
    "train_path = 'datasets/traindata'\n",
    "\n",
    "patch_shape=(5,7,7)\n",
    "r=int(patch_shape[0]/2) #用到几层图像\n",
    "pr=int(patch_shape[1]/2)\n",
    "extraction_step=(3,1,1)"
   ]
  },
  {
   "cell_type": "markdown",
   "metadata": {},
   "source": [
    "## Utils"
   ]
  },
  {
   "cell_type": "code",
   "execution_count": 2,
   "metadata": {},
   "outputs": [],
   "source": [
    "def get_mask(GT, values, label):\n",
    "        if type(values) == int:\n",
    "            values = [values]\n",
    "        mask = np.zeros(GT.shape)\n",
    "        for i in range(len(values)):\n",
    "            mask += (GT == values[i]) * label\n",
    "        return mask\n",
    "    \n",
    "def read_vol(path,n):\n",
    "    path=os.path.join(path,n)\n",
    "    itk_img=sitk.ReadImage(path)\n",
    "    data=sitk.GetArrayFromImage(itk_img)\n",
    "    return data"
   ]
  },
  {
   "cell_type": "code",
   "execution_count": 91,
   "metadata": {},
   "outputs": [],
   "source": [
    "from sklearn.feature_extraction.image import extract_patches as sk_extract_patches\n",
    "def extract_patches(volume, patch_shape, extraction_step) :\n",
    "    patches = sk_extract_patches(\n",
    "        volume,\n",
    "        patch_shape=patch_shape,\n",
    "        extraction_step=extraction_step) \n",
    "    #patches.shape(3,54,54,27,27) 3:1+(50-27)/9,54:1+(512-27)/9\n",
    "    ndim = len(volume.shape) #dim=3\n",
    "    npatches = np.prod(patches.shape[:ndim]) #multiply each number\n",
    "    return patches.reshape((npatches, ) + patch_shape)\n",
    "\n",
    "def build_set(T2_vols, label_vols, patch_shape, extraction_step=(9, 9, 9)) :\n",
    "    patch_radius=int(patch_size/2)\n",
    "    r1=int(patch_shape[0]/2)\n",
    "    r2=int(patch_shape[1]/2)\n",
    "    r3=int(patch_shape[2]/2)\n",
    "    label_selector = [slice(None)] + [slice(r1,r1+1)]+[slice(r2, r2+1)]+[slice(r3,r3+1)]\n",
    "    x = np.zeros((0, patch_shape[0],patch_shape[1],patch_shape[2]))\n",
    "    y = np.zeros((0, 1))\n",
    "    for idx in range(len(T2_vols)) : #6\n",
    "        y_length = len(y) #0\n",
    "\n",
    "        label_patches = extract_patches(label_vols[idx], patch_shape, extraction_step)#（8748，7,7,7）\n",
    "        totalpatch = label_patches[label_selector] #(8748,1,1,1)\n",
    "\n",
    "        valid_idxs = np.where(totalpatch[:,0,0,0]!= 0) \n",
    "        label_patches = totalpatch[valid_idxs] #(2614,1,1,1)\n",
    "\n",
    "        x = np.vstack((x, np.zeros((len(label_patches),patch_shape[0],patch_shape[1],patch_shape[2]))))\n",
    "        y = np.vstack((y, np.zeros((len(label_patches),1))))\n",
    "\n",
    "        for i in range(len(label_patches)) :\n",
    "            y[i+y_length, :]=label_patches[i,0,0,0]\n",
    "            #y[i+y_length, :, :] = np_utils.to_categorical(label_patches[i, : ,: ,:]-1, num_classes)\n",
    "        del label_patches\n",
    "        \n",
    "        # Sampling strategy: reject samples which labels are only zeros\n",
    "        T2_train = extract_patches(T2_vols[idx], patch_shape, extraction_step)\n",
    "        x[y_length:,:, :, :] = T2_train[valid_idxs]\n",
    "        del T2_train\n",
    "        \n",
    "    return x, y,valid_idxs,totalpatch"
   ]
  },
  {
   "cell_type": "code",
   "execution_count": 90,
   "metadata": {},
   "outputs": [],
   "source": [
    "def dice(gt,testlabel): #(2341,1)\n",
    "    a=np.sum(gt[:,0]==1)\n",
    "    b=np.sum(testlabel[:,0]==1)\n",
    "    m1g=np.where(gt[:,0]==1,1,0)\n",
    "    m1l=np.where(testlabel[:,0]==1,1,0)\n",
    "    m1=m1g+m1l\n",
    "    c1=np.sum(m1==2)\n",
    "    dice_gm=c1*2/(a+b)\n",
    "    \n",
    "    a=np.sum(gt[:,0]==2)\n",
    "    b=np.sum(testlabel[:,0]==2)\n",
    "    m2g=np.where(gt[:,0]==2,1,0)\n",
    "    m2l=np.where(testlabel[:,0]==2,1,0)\n",
    "    m2=m2g+m2l\n",
    "    c2=np.sum(m2==2)\n",
    "    dice_wm=c2*2/(a+b)\n",
    "    \n",
    "    a=np.sum(gt[:,0]==3)\n",
    "    b=np.sum(testlabel[:,0]==3)\n",
    "    m3g=np.where(gt[:,0]==3,1,0)\n",
    "    m3l=np.where(testlabel[:,0]==3,1,0)\n",
    "    m3=m3g+m3l\n",
    "    c3=np.sum(m3==2)\n",
    "    dice_csf=c3*2/(a+b)\n",
    "    \n",
    "    total=np.sum(gt)\n",
    "    dice_total=(c1*2+c2*2+c3*2)/total\n",
    "    return dice_gm,dice_wm,dice_csf,dice_total"
   ]
  },
  {
   "cell_type": "code",
   "execution_count": 14,
   "metadata": {},
   "outputs": [],
   "source": [
    "def sufful_data(x_train,y_train,ground_true):\n",
    "    print(\"Train dataset\")\n",
    "    gm_tr=np.sum(y_train[:,0]==1)\n",
    "    wm_tr=np.sum(y_train[:,0]==2)\n",
    "    csf_tr=np.sum(y_train[:,0]==3)\n",
    "    print('GM:',np.sum(y_train[:,0]==1))\n",
    "    print('WM:',np.sum(y_train[:,0]==2))\n",
    "    print('CSF:',np.sum(y_train[:,0]==3))\n",
    "    print()\n",
    "    print(\"Ground True dataset\")\n",
    "    gm_gt=np.sum(ground_true[:,0]==1)\n",
    "    wm_gt=np.sum(ground_true[:,0]==2)\n",
    "    csf_gt=np.sum(ground_true[:,0]==3)\n",
    "    print('GM:',gm_gt)\n",
    "    print('WM:',wm_gt)\n",
    "    print('CSF:',csf_gt)\n",
    "\n",
    "    #由于训练样本不同类的数量不一样，找到一个基准，将所有类调成GT的分布\n",
    "    p1=gm_tr/gm_gt\n",
    "    p2=wm_tr/wm_gt\n",
    "    p3=csf_tr/csf_gt\n",
    "    p=[p1,p2,p3]\n",
    "    max_class=p.index(min(p))\n",
    "\n",
    "    # 正常该有的分布 根据ground true确定 \n",
    "    total=ground_true.shape[0] \n",
    "    gm=np.sum(ground_true[:,0]==1)\n",
    "    wm=np.sum(ground_true[:,0]==2)\n",
    "    csf=np.sum(ground_true[:,0]==3)\n",
    "\n",
    "    gm_percentage=gm/total\n",
    "    wm_percentage=wm/total\n",
    "    csf_percentage=csf/total\n",
    "\n",
    "    percetange=[gm_percentage,wm_percentage,csf_percentage]\n",
    "    percetange=percetange/percetange[max_class]\n",
    "\n",
    "    train_number=percetange*[gm_tr,wm_tr,csf_tr]\n",
    "    train_number=np.array(train_number,dtype='int') \n",
    "\n",
    "    #求出训练样本各个类的索引位置\n",
    "    gm_tr_index=np.where(y_train[:,0]==1)\n",
    "    wm_tr_index=np.where(y_train[:,0]==2)\n",
    "    csf_tr_index=np.where(y_train[:,0]==3)\n",
    "    gm_tr_index=np.array(gm_tr_index).T\n",
    "    wm_tr_index=np.array(wm_tr_index).T\n",
    "    csf_tr_index=np.array(csf_tr_index).T\n",
    "\n",
    "    #打乱样本编号\n",
    "    #要丢弃对样本编号\n",
    "    drop_gm_idx=shuffle(gm_tr_index)[:len(gm_tr_index)-train_number[0]]\n",
    "    drop_wm_idx=shuffle(wm_tr_index)[:len(wm_tr_index)-train_number[1]]\n",
    "    drop_csf_idx=shuffle(csf_tr_index)[:len(csf_tr_index)-train_number[2]] #(....,1)\n",
    "\n",
    "    #合并要丢弃对样本\n",
    "    drop_num=np.vstack((drop_gm_idx,drop_wm_idx,drop_csf_idx))\n",
    "    #转换类型\n",
    "    drop_idx=drop_num.reshape((drop_num.shape[0]))\n",
    "\n",
    "    xt=np.delete(x_train,drop_idx,axis=0)\n",
    "    yt=np.delete(y_train,drop_idx,axis=0)\n",
    "    print()\n",
    "    print(xt.shape)\n",
    "    return xt,yt"
   ]
  },
  {
   "cell_type": "markdown",
   "metadata": {},
   "source": [
    "## 1.1 Read data &Processing data"
   ]
  },
  {
   "cell_type": "markdown",
   "metadata": {},
   "source": [
    "### (1) Train data"
   ]
  },
  {
   "cell_type": "code",
   "execution_count": 6,
   "metadata": {},
   "outputs": [],
   "source": [
    "T2_vols = np.empty((6, 50, 512, 512))\n",
    "label_vols = np.empty((6, 50, 512, 512))\n",
    "name=os.listdir(train_path)\n",
    "idx=0\n",
    "for n in name:\n",
    "    picname=n.split('.')[0]\n",
    "    if(picname.split('_')[-1]=='seg'):\n",
    "        continue  \n",
    "    segname=picname.split('_')[0]+'_seg.mha'\n",
    "    label_vols[idx]=read_vol(train_path,segname)\n",
    "    T2_vols[idx] = read_vol(train_path,n)\n",
    "    idx+=1\n",
    "\n",
    "CSF_mask = get_mask(label_vols, values=[5,6], label=3)\n",
    "GM_mask = get_mask(label_vols, values=[1,7,8], label=1)\n",
    "WM_mask = get_mask(label_vols, values=[2], label=2)\n",
    "label_vols = CSF_mask + GM_mask + WM_mask  \n",
    "\n",
    "T2_mean = T2_vols.mean()\n",
    "T2_std = T2_vols.std()\n",
    "T2_vols = (T2_vols - T2_mean) / T2_std"
   ]
  },
  {
   "cell_type": "code",
   "execution_count": 92,
   "metadata": {},
   "outputs": [
    {
     "name": "stdout",
     "output_type": "stream",
     "text": [
      "(6, 5, 512, 512)\n",
      "(6, 50, 512, 512)\n"
     ]
    }
   ],
   "source": [
    "label_v=label_vols[:,layer-r:layer+r+1]\n",
    "T2_v=T2_vols[:,layer-r:layer+r+1]\n",
    "print(T2_v.shape)\n",
    "print(T2_vols.shape)"
   ]
  },
  {
   "cell_type": "markdown",
   "metadata": {},
   "source": [
    "### (2) Test data"
   ]
  },
  {
   "cell_type": "code",
   "execution_count": 7,
   "metadata": {},
   "outputs": [],
   "source": [
    "T2_test = np.empty((1, 50, 512, 512))\n",
    "ground_true = np.empty((1, 50, 512, 512))\n",
    "name=os.listdir(test_path)\n",
    "picname=name[0].split('_')[0]\n",
    "\n",
    "gtname=picname+'_seg.mha'\n",
    "testname=picname+'_t2.mha'\n",
    "\n",
    "ground_true[0]=read_vol(test_path,gtname)\n",
    "T2_test[0] = read_vol(test_path,testname)\n",
    "\n",
    "CSF_mask = get_mask(ground_true, values=[5,6], label=3)\n",
    "GM_mask = get_mask(ground_true, values=[1,7,8], label=1)\n",
    "WM_mask = get_mask(ground_true, values=[2], label=2)\n",
    "gt_mask = CSF_mask + GM_mask + WM_mask \n",
    "\n",
    "T2_mean = T2_test.mean()\n",
    "T2_std = T2_test.std()\n",
    "T2_test = (T2_test - T2_mean) / T2_std"
   ]
  },
  {
   "cell_type": "code",
   "execution_count": 93,
   "metadata": {},
   "outputs": [],
   "source": [
    "ground_t=gt_mask[:,layer-r:layer+r+1]\n",
    "T2_t=T2_test[:,layer-r:layer+r+1]"
   ]
  },
  {
   "cell_type": "markdown",
   "metadata": {},
   "source": [
    "## 1.2 Make dataset"
   ]
  },
  {
   "cell_type": "markdown",
   "metadata": {},
   "source": [
    "### （1）Train datasets"
   ]
  },
  {
   "cell_type": "code",
   "execution_count": 94,
   "metadata": {},
   "outputs": [
    {
     "name": "stdout",
     "output_type": "stream",
     "text": [
      "(356618, 245) (356618, 1)\n"
     ]
    }
   ],
   "source": [
    "x_train,y_train,idx,repatch=build_set(T2_v,label_v,patch_shape,extraction_step)\n",
    "x_train=x_train.reshape((x_train.shape[0],np.prod(patch_shape)))\n",
    "print(x_train.shape,y_train.shape)"
   ]
  },
  {
   "cell_type": "markdown",
   "metadata": {},
   "source": [
    "### (2) Test datasets"
   ]
  },
  {
   "cell_type": "code",
   "execution_count": 95,
   "metadata": {},
   "outputs": [
    {
     "name": "stdout",
     "output_type": "stream",
     "text": [
      "(60531, 245) (60531, 1)\n"
     ]
    }
   ],
   "source": [
    "x_test,ground_true,index,fullpatch=build_set(T2_t,ground_t,patch_shape,(3,1,1))\n",
    "x_test=x_test.reshape((x_test.shape[0],np.prod(patch_shape)))\n",
    "print(x_test.shape,ground_true.shape)"
   ]
  },
  {
   "cell_type": "markdown",
   "metadata": {},
   "source": [
    "### (3) Process sample distribution"
   ]
  },
  {
   "cell_type": "code",
   "execution_count": 96,
   "metadata": {},
   "outputs": [
    {
     "name": "stdout",
     "output_type": "stream",
     "text": [
      "Train dataset\n",
      "GM: 125992\n",
      "WM: 161197\n",
      "CSF: 69429\n",
      "\n",
      "Ground True dataset\n",
      "GM: 17727\n",
      "WM: 32078\n",
      "CSF: 10726\n",
      "\n",
      "(254037, 245)\n"
     ]
    }
   ],
   "source": [
    "xt,yt=sufful_data(x_train,y_train,ground_true)\n",
    "yt=yt.ravel()"
   ]
  },
  {
   "cell_type": "code",
   "execution_count": 86,
   "metadata": {},
   "outputs": [
    {
     "data": {
      "text/plain": [
       "(356618, 245)"
      ]
     },
     "execution_count": 86,
     "metadata": {},
     "output_type": "execute_result"
    }
   ],
   "source": [
    "x_train.shape"
   ]
  },
  {
   "cell_type": "markdown",
   "metadata": {},
   "source": [
    "## 1.3 训练 测试 求指标"
   ]
  },
  {
   "cell_type": "code",
   "execution_count": 97,
   "metadata": {},
   "outputs": [
    {
     "name": "stdout",
     "output_type": "stream",
     "text": [
      "n_estimators: 60\n",
      "0.828378715963 0.893018256437 0.877884762341\n",
      "0.92254144712\n",
      "Time used: 4.728472766666664\n"
     ]
    }
   ],
   "source": [
    "from sklearn.ensemble import RandomForestClassifier \n",
    "start = time.clock()\n",
    "rf0 = RandomForestClassifier(n_estimators=60)  \n",
    "rf0.fit(xt,yt)\n",
    "\n",
    "test_res=rf0.predict(x_test) #need to reshape\n",
    "test_res=test_res.reshape(test_res.shape[0],1)\n",
    "dice_gm,dice_wm,dice_csf,dice_total=dice(ground_true,test_res)\n",
    "print(\"n_estimators:\",n_estimators)\n",
    "print(dice_gm,dice_wm,dice_csf)\n",
    "print(dice_total)\n",
    "elapsed = (time.clock()- start)\n",
    "print(\"Time used:\",elapsed/60)"
   ]
  },
  {
   "cell_type": "code",
   "execution_count": 98,
   "metadata": {},
   "outputs": [
    {
     "data": {
      "text/plain": [
       "(60531, 3)"
      ]
     },
     "execution_count": 98,
     "metadata": {},
     "output_type": "execute_result"
    }
   ],
   "source": [
    "c=rf0.predict_proba(x_test)\n",
    "c.shape"
   ]
  },
  {
   "cell_type": "markdown",
   "metadata": {},
   "source": [
    "## 3.1 Plot Image and ProbImg"
   ]
  },
  {
   "cell_type": "code",
   "execution_count": 100,
   "metadata": {},
   "outputs": [],
   "source": [
    "from sklearn.feature_extraction.image import reconstruct_from_patches_2d\n",
    "import math\n",
    "height=int(math.sqrt(fullpatch.shape[0]))"
   ]
  },
  {
   "cell_type": "markdown",
   "metadata": {},
   "source": [
    "## 3.2 Reconstruct Image"
   ]
  },
  {
   "cell_type": "markdown",
   "metadata": {},
   "source": [
    "### (1) Ground True Image"
   ]
  },
  {
   "cell_type": "code",
   "execution_count": 76,
   "metadata": {},
   "outputs": [
    {
     "name": "stdout",
     "output_type": "stream",
     "text": [
      "(256036, 1, 1)\n"
     ]
    }
   ],
   "source": [
    "fp=np.zeros((fullpatch.shape[0],1,1))\n",
    "fp[:,0,0]=fullpatch[:,0,0,0]\n",
    "print(fp.shape)\n",
    "GT=reconstruct_from_patches_2d(fp,(height,height)) "
   ]
  },
  {
   "cell_type": "code",
   "execution_count": 77,
   "metadata": {},
   "outputs": [
    {
     "data": {
      "text/plain": [
       "<matplotlib.image.AxesImage at 0x16759e828>"
      ]
     },
     "execution_count": 77,
     "metadata": {},
     "output_type": "execute_result"
    },
    {
     "data": {
      "image/png": "[encoded data removed]",
      "text/plain": [
       "<matplotlib.figure.Figure at 0x1a1ff0320>"
      ]
     },
     "metadata": {},
     "output_type": "display_data"
    }
   ],
   "source": [
    "misc.imsave(\"GroundTrue.bmp\",GT)\n",
    "plt.imshow(GT,cmap='gray')"
   ]
  },
  {
   "cell_type": "markdown",
   "metadata": {},
   "source": [
    "### (2) Result"
   ]
  },
  {
   "cell_type": "code",
   "execution_count": 101,
   "metadata": {},
   "outputs": [],
   "source": [
    "test=np.zeros((fullpatch.shape[0],1,1))\n",
    "test[:,0,0]=fullpatch[:,0,0,0]\n",
    "test[index,0,0]=test_res[:,0]\n",
    "test28=reconstruct_from_patches_2d(test,(height,height)) "
   ]
  },
  {
   "cell_type": "code",
   "execution_count": 75,
   "metadata": {},
   "outputs": [
    {
     "data": {
      "text/plain": [
       "<matplotlib.image.AxesImage at 0x1a2006ba8>"
      ]
     },
     "execution_count": 75,
     "metadata": {},
     "output_type": "execute_result"
    },
    {
     "data": {
      "image/png": "[encoded data removed]",
      "text/plain": [
       "<matplotlib.figure.Figure at 0x164b7acf8>"
      ]
     },
     "metadata": {},
     "output_type": "display_data"
    }
   ],
   "source": [
    "plt.imshow(test28,cmap='gray')"
   ]
  },
  {
   "cell_type": "code",
   "execution_count": 33,
   "metadata": {},
   "outputs": [],
   "source": [
    "misc.imsave(\"p5_7_7tree_60.bmp\",test28)"
   ]
  },
  {
   "cell_type": "markdown",
   "metadata": {},
   "source": [
    "### (3)GM Prob"
   ]
  },
  {
   "cell_type": "code",
   "execution_count": 55,
   "metadata": {},
   "outputs": [],
   "source": [
    "gm=c[:,0]\n",
    "gm=gm.reshape((len(gm),1))\n",
    "probgm=np.zeros((fullpatch.shape[0],1,1))\n",
    "probgm[:,0,0]=fullpatch[:,0,0,0]\n",
    "probgm[index,0,0]=gm[:,0]\n",
    "gm=reconstruct_from_patches_2d(probgm,(height,height)) "
   ]
  },
  {
   "cell_type": "code",
   "execution_count": 56,
   "metadata": {},
   "outputs": [
    {
     "data": {
      "text/plain": [
       "<matplotlib.image.AxesImage at 0x128464320>"
      ]
     },
     "execution_count": 56,
     "metadata": {},
     "output_type": "execute_result"
    },
    {
     "data": {
      "image/png": "[encoded data removed]",
      "text/plain": [
       "<matplotlib.figure.Figure at 0x1125b2cf8>"
      ]
     },
     "metadata": {},
     "output_type": "display_data"
    }
   ],
   "source": [
    "plt.imshow(gm,cmap='gray')"
   ]
  },
  {
   "cell_type": "code",
   "execution_count": null,
   "metadata": {},
   "outputs": [],
   "source": [
    "misc.imsave(\"p5-7-7_gm.bmp\",gm)"
   ]
  },
  {
   "cell_type": "markdown",
   "metadata": {},
   "source": [
    "### (4) WM Prob"
   ]
  },
  {
   "cell_type": "code",
   "execution_count": 57,
   "metadata": {},
   "outputs": [],
   "source": [
    "wm=c[:,1]\n",
    "wm=wm.reshape((len(wm),1))\n",
    "probwm=np.zeros((fullpatch.shape[0],1,1))\n",
    "probwm[:,0,0]=fullpatch[:,0,0,0]\n",
    "probwm[index,0,0]=wm[:,0]\n",
    "wm=reconstruct_from_patches_2d(probwm,(height,height)) "
   ]
  },
  {
   "cell_type": "code",
   "execution_count": 59,
   "metadata": {},
   "outputs": [
    {
     "data": {
      "text/plain": [
       "<matplotlib.image.AxesImage at 0x127d07b70>"
      ]
     },
     "execution_count": 59,
     "metadata": {},
     "output_type": "execute_result"
    },
    {
     "data": {
      "image/png": "[encoded data removed]",
      "text/plain": [
       "<matplotlib.figure.Figure at 0x127d984a8>"
      ]
     },
     "metadata": {},
     "output_type": "display_data"
    }
   ],
   "source": [
    "plt.imshow(wm,cmap='gray')"
   ]
  },
  {
   "cell_type": "code",
   "execution_count": null,
   "metadata": {},
   "outputs": [],
   "source": [
    "misc.imsave(\"p5-7-7_wm.bmp\",wm)"
   ]
  },
  {
   "cell_type": "markdown",
   "metadata": {},
   "source": [
    "### (5) CSF Prob"
   ]
  },
  {
   "cell_type": "code",
   "execution_count": 64,
   "metadata": {},
   "outputs": [],
   "source": [
    "csf=c[:,2]\n",
    "csf=csf.reshape((len(csf),1))\n",
    "probcsf=np.zeros((fullpatch.shape[0],1,1))\n",
    "probcsf[:,0,0]=fullpatch[:,0,0,0]\n",
    "probcsf[index,0,0]=csf[:,0]\n",
    "csf=reconstruct_from_patches_2d(probcsf,(height,height)) "
   ]
  },
  {
   "cell_type": "code",
   "execution_count": 65,
   "metadata": {},
   "outputs": [
    {
     "data": {
      "text/plain": [
       "<matplotlib.image.AxesImage at 0x112813748>"
      ]
     },
     "execution_count": 65,
     "metadata": {},
     "output_type": "execute_result"
    },
    {
     "data": {
      "image/png": "[encoded data removed]",
      "text/plain": [
       "<matplotlib.figure.Figure at 0x127cf19b0>"
      ]
     },
     "metadata": {},
     "output_type": "display_data"
    }
   ],
   "source": [
    "plt.imshow(csf,cmap='gray')"
   ]
  },
  {
   "cell_type": "code",
   "execution_count": null,
   "metadata": {},
   "outputs": [],
   "source": [
    "misc.imsave(\"p19_csf.bmp\",csf)"
   ]
  }
 ],
 "metadata": {
  "kernelspec": {
   "display_name": "Python 3",
   "language": "python",
   "name": "python3"
  },
  "language_info": {
   "codemirror_mode": {
    "name": "ipython",
    "version": 3
   },
   "file_extension": ".py",
   "mimetype": "text/x-python",
   "name": "python",
   "nbconvert_exporter": "python",
   "pygments_lexer": "ipython3",
   "version": "3.5.4"
  }
 },
 "nbformat": 4,
 "nbformat_minor": 2
}
