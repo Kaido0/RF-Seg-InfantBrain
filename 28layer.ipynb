{
 "cells": [
  {
   "cell_type": "markdown",
   "metadata": {},
   "source": [
    "## Parament"
   ]
  },
  {
   "cell_type": "code",
   "execution_count": 382,
   "metadata": {},
   "outputs": [],
   "source": [
    "%matplotlib inline\n",
    "import os\n",
    "import numpy as np\n",
    "import SimpleITK as sitk\n",
    "import matplotlib.pyplot as plt\n",
    "\n",
    "patch_size=7\n",
    "num_classes = 3\n",
    "layer=28 #要分割第几层\n",
    "\n",
    "test_path = 'datasets/testdata'\n",
    "train_path = 'datasets/traindata'\n",
    "\n",
    "patch_shape=(3,9,9)\n",
    "r=int(patch_shape[0]/2) #用到几层图像\n",
    "extraction_step=(3,3,3)"
   ]
  },
  {
   "cell_type": "markdown",
   "metadata": {},
   "source": [
    "## Utils"
   ]
  },
  {
   "cell_type": "code",
   "execution_count": 304,
   "metadata": {},
   "outputs": [],
   "source": [
    "def get_mask(GT, values, label):\n",
    "        if type(values) == int:\n",
    "            values = [values]\n",
    "        mask = np.zeros(GT.shape)\n",
    "        for i in range(len(values)):\n",
    "            mask += (GT == values[i]) * label\n",
    "        return mask\n",
    "    \n",
    "def read_vol(path,n):\n",
    "    path=os.path.join(path,n)\n",
    "    itk_img=sitk.ReadImage(path)\n",
    "    data=sitk.GetArrayFromImage(itk_img)\n",
    "    return data"
   ]
  },
  {
   "cell_type": "code",
   "execution_count": 383,
   "metadata": {},
   "outputs": [],
   "source": [
    "from sklearn.feature_extraction.image import extract_patches as sk_extract_patches\n",
    "def extract_patches(volume, patch_shape, extraction_step) :\n",
    "    patches = sk_extract_patches(\n",
    "        volume,\n",
    "        patch_shape=patch_shape,\n",
    "        extraction_step=extraction_step) \n",
    "    #patches.shape(3,54,54,27,27) 3:1+(50-27)/9,54:1+(512-27)/9\n",
    "    ndim = len(volume.shape) #dim=3\n",
    "    npatches = np.prod(patches.shape[:ndim]) #multiply each number\n",
    "    return patches.reshape((npatches, ) + patch_shape)\n",
    "\n",
    "def build_set(T2_vols, label_vols, patch_shape, extraction_step=(9, 9, 9)) :\n",
    "    patch_radius=int(patch_size/2)\n",
    "    r1=int(patch_shape[0]/2)\n",
    "    r2=int(patch_shape[1]/2)\n",
    "    r3=int(patch_shape[2]/2)\n",
    "    label_selector = [slice(None)] + [slice(r1,r1+1)]+[slice(r2, r2+1)]+[slice(r3,r3+1)]\n",
    "    x = np.zeros((0, patch_shape[0],patch_shape[1],patch_shape[2]))\n",
    "    y = np.zeros((0, 1))\n",
    "    for idx in range(len(T2_vols)) : #6\n",
    "        y_length = len(y) #0\n",
    "\n",
    "        label_patches = extract_patches(label_vols[idx], patch_shape, extraction_step)#（8748，7,7,7）\n",
    "        totalpatch = label_patches[label_selector] #(8748,1,1,1)\n",
    "\n",
    "        valid_idxs = np.where(totalpatch[:,0,0,0]!= 0) \n",
    "        label_patches = totalpatch[valid_idxs] #(2614,1,1,1)\n",
    "\n",
    "        x = np.vstack((x, np.zeros((len(label_patches),patch_shape[0],patch_shape[1],patch_shape[2]))))\n",
    "        y = np.vstack((y, np.zeros((len(label_patches),1))))\n",
    "\n",
    "        for i in range(len(label_patches)) :\n",
    "            y[i+y_length, :]=label_patches[i,0,0,0]\n",
    "            #y[i+y_length, :, :] = np_utils.to_categorical(label_patches[i, : ,: ,:]-1, num_classes)\n",
    "        del label_patches\n",
    "        \n",
    "        # Sampling strategy: reject samples which labels are only zeros\n",
    "        T2_train = extract_patches(T2_vols[idx], patch_shape, extraction_step)\n",
    "        x[y_length:,:, :, :] = T2_train[valid_idxs]\n",
    "        del T2_train\n",
    "        \n",
    "    return x, y,valid_idxs,totalpatch"
   ]
  },
  {
   "cell_type": "code",
   "execution_count": 232,
   "metadata": {},
   "outputs": [],
   "source": [
    "def dice(gt,testlabel): #(2341,1)\n",
    "    a=np.sum(gt[:,0]==1)\n",
    "    b=np.sum(testlabel[:,0]==1)\n",
    "    m1g=np.where(gt[:,0]==1,1,0)\n",
    "    m1l=np.where(testlabel[:,0]==1,1,0)\n",
    "    m1=m1g+m1l\n",
    "    c1=np.sum(m1==2)\n",
    "    dice_gm=c1*2/(a+b)\n",
    "    \n",
    "    a=np.sum(gt[:,0]==2)\n",
    "    b=np.sum(testlabel[:,0]==2)\n",
    "    m2g=np.where(gt[:,0]==2,1,0)\n",
    "    m2l=np.where(testlabel[:,0]==2,1,0)\n",
    "    m2=m2g+m2l\n",
    "    c2=np.sum(m2==2)\n",
    "    dice_wm=c2*2/(a+b)\n",
    "    \n",
    "    a=np.sum(gt[:,0]==3)\n",
    "    b=np.sum(testlabel[:,0]==3)\n",
    "    m3g=np.where(gt[:,0]==3,1,0)\n",
    "    m3l=np.where(testlabel[:,0]==3,1,0)\n",
    "    m3=m3g+m3l\n",
    "    c3=np.sum(m3==2)\n",
    "    dice_csf=c3*2/(a+b)\n",
    "    return dice_gm,dice_wm,dice_csf"
   ]
  },
  {
   "cell_type": "markdown",
   "metadata": {},
   "source": [
    "## 1.1 Read data &Processing data"
   ]
  },
  {
   "cell_type": "markdown",
   "metadata": {},
   "source": [
    "### (1) Train data"
   ]
  },
  {
   "cell_type": "code",
   "execution_count": 384,
   "metadata": {},
   "outputs": [],
   "source": [
    "T2_vols = np.empty((6, 50, 512, 512))\n",
    "label_vols = np.empty((6, 50, 512, 512))\n",
    "name=os.listdir(train_path)\n",
    "idx=0\n",
    "for n in name:\n",
    "    picname=n.split('.')[0]\n",
    "    if(picname.split('_')[-1]=='seg'):\n",
    "        continue  \n",
    "    segname=picname.split('_')[0]+'_seg.mha'\n",
    "    label_vols[idx]=read_vol(train_path,segname)\n",
    "    T2_vols[idx] = read_vol(train_path,n)\n",
    "    idx+=1\n",
    "\n",
    "## deal with label\n",
    "CSF_mask = get_mask(label_vols, values=[5,6], label=3)\n",
    "GM_mask = get_mask(label_vols, values=[1,7,8], label=1)\n",
    "WM_mask = get_mask(label_vols, values=[2], label=2)\n",
    "label_vols = CSF_mask + GM_mask + WM_mask  \n",
    "\n",
    "## Intensity normalisation (zero mean and unit variance)\n",
    "T2_mean = T2_vols.mean()\n",
    "T2_std = T2_vols.std()\n",
    "T2_vols = (T2_vols - T2_mean) / T2_std"
   ]
  },
  {
   "cell_type": "code",
   "execution_count": 385,
   "metadata": {},
   "outputs": [],
   "source": [
    "forever_T2=T2_vols\n",
    "forever_Label=label_vols"
   ]
  },
  {
   "cell_type": "code",
   "execution_count": 386,
   "metadata": {},
   "outputs": [],
   "source": [
    "label_vols=label_vols[:,layer-r:layer+r+1]\n",
    "T2_vols=T2_vols[:,layer-r:layer+r+1]"
   ]
  },
  {
   "cell_type": "markdown",
   "metadata": {},
   "source": [
    "### (2) Test data"
   ]
  },
  {
   "cell_type": "code",
   "execution_count": 387,
   "metadata": {},
   "outputs": [],
   "source": [
    "T2_test = np.empty((1, 50, 512, 512))\n",
    "ground_true = np.empty((1, 50, 512, 512))\n",
    "name=os.listdir(test_path)\n",
    "picname=name[0].split('_')[0]\n",
    "\n",
    "gtname=picname+'_seg.mha'\n",
    "testname=picname+'_t2.mha'\n",
    "\n",
    "ground_true[0]=read_vol(test_path,gtname)\n",
    "T2_test[0] = read_vol(test_path,testname)\n",
    "\n",
    "CSF_mask = get_mask(ground_true, values=[5,6], label=3)\n",
    "GM_mask = get_mask(ground_true, values=[1,7,8], label=1)\n",
    "WM_mask = get_mask(ground_true, values=[2], label=2)\n",
    "ground_true = CSF_mask + GM_mask + WM_mask \n",
    "\n",
    "## Intensity normalisation (zero mean and unit variance)\n",
    "T2_mean = T2_test.mean()\n",
    "T2_std = T2_test.std()\n",
    "T2_test = (T2_test - T2_mean) / T2_std"
   ]
  },
  {
   "cell_type": "code",
   "execution_count": 388,
   "metadata": {},
   "outputs": [],
   "source": [
    "ground_true=ground_true[:,layer-r:layer+r+1]\n",
    "T2_test=T2_test[:,layer-r:layer+r+1]"
   ]
  },
  {
   "cell_type": "code",
   "execution_count": 389,
   "metadata": {},
   "outputs": [
    {
     "name": "stdout",
     "output_type": "stream",
     "text": [
      "(6, 3, 512, 512)\n",
      "(1, 3, 512, 512)\n"
     ]
    }
   ],
   "source": [
    "print(label_vols.shape)\n",
    "print(T2_test.shape)"
   ]
  },
  {
   "cell_type": "markdown",
   "metadata": {},
   "source": [
    "## 1.2 Make Train dataset"
   ]
  },
  {
   "cell_type": "code",
   "execution_count": 390,
   "metadata": {},
   "outputs": [],
   "source": [
    "x_train,y_train,idx,repatch=build_set(T2_vols,label_vols,patch_shape,extraction_step)"
   ]
  },
  {
   "cell_type": "code",
   "execution_count": 391,
   "metadata": {},
   "outputs": [
    {
     "data": {
      "text/plain": [
       "(39634, 1)"
      ]
     },
     "execution_count": 391,
     "metadata": {},
     "output_type": "execute_result"
    }
   ],
   "source": [
    "y_train.shape"
   ]
  },
  {
   "cell_type": "code",
   "execution_count": 392,
   "metadata": {},
   "outputs": [
    {
     "name": "stdout",
     "output_type": "stream",
     "text": [
      "GM: 13998\n",
      "WM: 17935\n",
      "CSF: 7701\n"
     ]
    }
   ],
   "source": [
    "print('GM:',np.sum(y_train[:,0]==1))\n",
    "print('WM:',np.sum(y_train[:,0]==2))\n",
    "print('CSF:',np.sum(y_train[:,0]==3))"
   ]
  },
  {
   "cell_type": "code",
   "execution_count": 393,
   "metadata": {},
   "outputs": [],
   "source": [
    "x_train=x_train.reshape((x_train.shape[0],np.prod(patch_shape)))"
   ]
  },
  {
   "cell_type": "code",
   "execution_count": 394,
   "metadata": {},
   "outputs": [
    {
     "name": "stdout",
     "output_type": "stream",
     "text": [
      "(39634, 243) (39634, 1)\n"
     ]
    }
   ],
   "source": [
    "print(x_train.shape,y_train.shape)"
   ]
  },
  {
   "cell_type": "markdown",
   "metadata": {},
   "source": [
    "## 1.3 Training"
   ]
  },
  {
   "cell_type": "code",
   "execution_count": 399,
   "metadata": {},
   "outputs": [
    {
     "name": "stderr",
     "output_type": "stream",
     "text": [
      "/Users/zhangweiting/anaconda3/lib/python3.5/site-packages/ipykernel_launcher.py:4: DataConversionWarning: A column-vector y was passed when a 1d array was expected. Please change the shape of y to (n_samples,), for example using ravel().\n",
      "  after removing the cwd from sys.path.\n",
      "/Users/zhangweiting/anaconda3/lib/python3.5/site-packages/sklearn/ensemble/forest.py:451: UserWarning: Some inputs do not have OOB scores. This probably means too few trees were used to compute any reliable oob estimates.\n",
      "  warn(\"Some inputs do not have OOB scores. \"\n",
      "/Users/zhangweiting/anaconda3/lib/python3.5/site-packages/sklearn/ensemble/forest.py:456: RuntimeWarning: invalid value encountered in true_divide\n",
      "  predictions[k].sum(axis=1)[:, np.newaxis])\n"
     ]
    },
    {
     "data": {
      "text/plain": [
       "RandomForestClassifier(bootstrap=True, class_weight=None, criterion='gini',\n",
       "            max_depth=None, max_features='auto', max_leaf_nodes=None,\n",
       "            min_impurity_decrease=0.0, min_impurity_split=None,\n",
       "            min_samples_leaf=1, min_samples_split=2,\n",
       "            min_weight_fraction_leaf=0.0, n_estimators=20, n_jobs=1,\n",
       "            oob_score=True, random_state=None, verbose=0, warm_start=False)"
      ]
     },
     "execution_count": 399,
     "metadata": {},
     "output_type": "execute_result"
    }
   ],
   "source": [
    "from sklearn.ensemble import RandomForestClassifier \n",
    "rf0 = RandomForestClassifier(n_estimators=20,oob_score=True)  \n",
    "# rf0 = RandomForestClassifier(n_estimators=20，max_depth=18，min_samples_leaf=7)  \n",
    "rf0.fit(x_train,y_train)  \n",
    "#print(rf0.oob_score_)"
   ]
  },
  {
   "cell_type": "code",
   "execution_count": 396,
   "metadata": {},
   "outputs": [
    {
     "data": {
      "text/plain": [
       "243"
      ]
     },
     "execution_count": 396,
     "metadata": {},
     "output_type": "execute_result"
    }
   ],
   "source": [
    "rf0.n_features_"
   ]
  },
  {
   "cell_type": "code",
   "execution_count": 400,
   "metadata": {},
   "outputs": [
    {
     "data": {
      "text/plain": [
       "0.85603269919765856"
      ]
     },
     "execution_count": 400,
     "metadata": {},
     "output_type": "execute_result"
    }
   ],
   "source": [
    "rf0.oob_score_"
   ]
  },
  {
   "cell_type": "markdown",
   "metadata": {},
   "source": [
    "## 2.1 Make Test dataset"
   ]
  },
  {
   "cell_type": "code",
   "execution_count": 401,
   "metadata": {},
   "outputs": [],
   "source": [
    "x_test,ground_true,index,fullpatch=build_set(T2_test,ground_true,patch_shape,(3,1,1))"
   ]
  },
  {
   "cell_type": "code",
   "execution_count": 402,
   "metadata": {},
   "outputs": [],
   "source": [
    "x_test=x_test.reshape((x_test.shape[0],np.prod(patch_shape)))"
   ]
  },
  {
   "cell_type": "markdown",
   "metadata": {},
   "source": [
    "## 2.2 Testing"
   ]
  },
  {
   "cell_type": "code",
   "execution_count": 418,
   "metadata": {},
   "outputs": [
    {
     "name": "stdout",
     "output_type": "stream",
     "text": [
      "GM: 17727\n",
      "WM: 32078\n",
      "CSF: 10726\n",
      "\n",
      "GM: 25118\n",
      "WM: 25867\n",
      "CSF: 9546\n"
     ]
    }
   ],
   "source": [
    "gm=np.sum(ground_true[:,0]==1)\n",
    "wm=np.sum(ground_true[:,0]==2)\n",
    "csf=np.sum(ground_true[:,0]==3)\n",
    "print('GM:',gm)\n",
    "print('WM:',wm)\n",
    "print('CSF:',csf)\n",
    "print(\"\")\n",
    "gm=np.sum(test_res[:,0]==1)\n",
    "wm=np.sum(test_res[:,0]==2)\n",
    "csf=np.sum(test_res[:,0]==3)\n",
    "print('GM:',gm)\n",
    "print('WM:',wm)\n",
    "print('CSF:',csf)"
   ]
  },
  {
   "cell_type": "code",
   "execution_count": 404,
   "metadata": {},
   "outputs": [],
   "source": [
    "test_res=rf0.predict(x_test) #need to reshape\n",
    "test_res=test_res.reshape(test_res.shape[0],1)"
   ]
  },
  {
   "cell_type": "markdown",
   "metadata": {},
   "source": [
    "## 2.3 Dice"
   ]
  },
  {
   "cell_type": "code",
   "execution_count": 417,
   "metadata": {},
   "outputs": [
    {
     "name": "stdout",
     "output_type": "stream",
     "text": [
      "0.787536468666 0.854499956856 0.891179952644\n"
     ]
    }
   ],
   "source": [
    "dice_gm,dice_wm,dice_csf=dice(ground_true,test_res)\n",
    "print(dice_gm,dice_wm,dice_csf)"
   ]
  },
  {
   "cell_type": "markdown",
   "metadata": {},
   "source": [
    "## 3.1 Plot Image and ProbImg"
   ]
  },
  {
   "cell_type": "code",
   "execution_count": 421,
   "metadata": {},
   "outputs": [],
   "source": [
    "from sklearn.feature_extraction.image import reconstruct_from_patches_2d\n",
    "import math\n",
    "height=int(math.sqrt(fullpatch.shape[0]))"
   ]
  },
  {
   "cell_type": "code",
   "execution_count": 427,
   "metadata": {},
   "outputs": [
    {
     "data": {
      "text/plain": [
       "(60531, 3)"
      ]
     },
     "execution_count": 427,
     "metadata": {},
     "output_type": "execute_result"
    }
   ],
   "source": [
    "c=rf0.predict_proba(x_test)\n",
    "c.shape"
   ]
  },
  {
   "cell_type": "markdown",
   "metadata": {},
   "source": [
    "## 3.2 Reconstruct Image"
   ]
  },
  {
   "cell_type": "markdown",
   "metadata": {},
   "source": [
    "### (1) Ground True Image"
   ]
  },
  {
   "cell_type": "code",
   "execution_count": 367,
   "metadata": {},
   "outputs": [],
   "source": [
    "fp=np.zeros((fullpatch.shape[0],1,1))\n",
    "fp[:,0,0]=fullpatch[:,0,0,0]\n",
    "GT=reconstruct_from_patches_2d(fp,(height,height)) "
   ]
  },
  {
   "cell_type": "code",
   "execution_count": 368,
   "metadata": {},
   "outputs": [
    {
     "data": {
      "text/plain": [
       "<matplotlib.image.AxesImage at 0x121058748>"
      ]
     },
     "execution_count": 368,
     "metadata": {},
     "output_type": "execute_result"
    },
    {
     "data": {
      "image/png": "[encoded data removed]",
      "text/plain": [
       "<matplotlib.figure.Figure at 0x123348860>"
      ]
     },
     "metadata": {},
     "output_type": "display_data"
    }
   ],
   "source": [
    "# plt.savefig(\"GT28.jpg\")\n",
    "plt.imshow(GT,cmap='gray')"
   ]
  },
  {
   "cell_type": "markdown",
   "metadata": {},
   "source": [
    "### (2) Result"
   ]
  },
  {
   "cell_type": "code",
   "execution_count": 369,
   "metadata": {},
   "outputs": [],
   "source": [
    "test=np.zeros((fullpatch.shape[0],1,1))\n",
    "test[:,0,0]=fullpatch[:,0,0,0]\n",
    "test[index,0,0]=test_res[:,0]\n",
    "test28=reconstruct_from_patches_2d(test,(height,height)) "
   ]
  },
  {
   "cell_type": "code",
   "execution_count": 419,
   "metadata": {},
   "outputs": [
    {
     "data": {
      "text/plain": [
       "<matplotlib.image.AxesImage at 0x123282cf8>"
      ]
     },
     "execution_count": 419,
     "metadata": {},
     "output_type": "execute_result"
    },
    {
     "data": {
      "image/png": "[encoded data removed]",
      "text/plain": [
       "<matplotlib.figure.Figure at 0x122b60e80>"
      ]
     },
     "metadata": {},
     "output_type": "display_data"
    }
   ],
   "source": [
    "plt.imshow(test28,cmap='gray')\n",
    "# plt.savefig(\"test28.jpg\")"
   ]
  },
  {
   "cell_type": "markdown",
   "metadata": {},
   "source": [
    "### (3)GM Prob"
   ]
  },
  {
   "cell_type": "code",
   "execution_count": 423,
   "metadata": {},
   "outputs": [],
   "source": [
    "gm=c[:,0]\n",
    "gm=gm.reshape((len(gm),1))\n",
    "probgm=np.zeros((fullpatch.shape[0],1,1))\n",
    "probgm[:,0,0]=fullpatch[:,0,0,0]\n",
    "probgm[index,0,0]=gm[:,0]\n",
    "gm=reconstruct_from_patches_2d(probgm,(height,height)) "
   ]
  },
  {
   "cell_type": "code",
   "execution_count": 424,
   "metadata": {},
   "outputs": [
    {
     "data": {
      "text/plain": [
       "<matplotlib.image.AxesImage at 0x127b53710>"
      ]
     },
     "execution_count": 424,
     "metadata": {},
     "output_type": "execute_result"
    },
    {
     "data": {
      "image/png": "[encoded data removed]",
      "text/plain": [
       "<matplotlib.figure.Figure at 0x123273390>"
      ]
     },
     "metadata": {},
     "output_type": "display_data"
    }
   ],
   "source": [
    "plt.imshow(gm,cmap='gray')"
   ]
  },
  {
   "cell_type": "markdown",
   "metadata": {},
   "source": [
    "### (4) WM Prob"
   ]
  },
  {
   "cell_type": "code",
   "execution_count": 433,
   "metadata": {},
   "outputs": [],
   "source": [
    "wm=c[:,1]\n",
    "wm=wm.reshape((len(wm),1))\n",
    "probwm=np.zeros((fullpatch.shape[0],1,1))\n",
    "probwm[:,0,0]=fullpatch[:,0,0,0]\n",
    "probwm[index,0,0]=wm[:,0]\n",
    "wm=reconstruct_from_patches_2d(probwm,(height,height)) "
   ]
  },
  {
   "cell_type": "code",
   "execution_count": 437,
   "metadata": {},
   "outputs": [
    {
     "data": {
      "text/plain": [
       "<matplotlib.image.AxesImage at 0x1290de1d0>"
      ]
     },
     "execution_count": 437,
     "metadata": {},
     "output_type": "execute_result"
    },
    {
     "data": {
      "image/png": "[encoded data removed]",
      "text/plain": [
       "<matplotlib.figure.Figure at 0x126894588>"
      ]
     },
     "metadata": {},
     "output_type": "display_data"
    }
   ],
   "source": [
    "plt.imshow(wm,cmap='gray')"
   ]
  },
  {
   "cell_type": "markdown",
   "metadata": {},
   "source": [
    "### (5) CSF Prob"
   ]
  },
  {
   "cell_type": "code",
   "execution_count": 439,
   "metadata": {},
   "outputs": [],
   "source": [
    "csf=c[:,2]\n",
    "csf=csf.reshape((len(csf),1))\n",
    "probcsf=np.zeros((fullpatch.shape[0],1,1))\n",
    "probcsf[:,0,0]=fullpatch[:,0,0,0]\n",
    "probcsf[index,0,0]=csf[:,0]\n",
    "csf=reconstruct_from_patches_2d(probcsf,(height,height)) "
   ]
  },
  {
   "cell_type": "code",
   "execution_count": 440,
   "metadata": {},
   "outputs": [
    {
     "data": {
      "text/plain": [
       "<matplotlib.image.AxesImage at 0x12efaac88>"
      ]
     },
     "execution_count": 440,
     "metadata": {},
     "output_type": "execute_result"
    },
    {
     "data": {
      "image/png": "[encoded data removed]",
      "text/plain": [
       "<matplotlib.figure.Figure at 0x1290eb5f8>"
      ]
     },
     "metadata": {},
     "output_type": "display_data"
    }
   ],
   "source": [
    "plt.imshow(csf,cmap='gray')"
   ]
  }
 ],
 "metadata": {
  "kernelspec": {
   "display_name": "Python 3",
   "language": "python",
   "name": "python3"
  },
  "language_info": {
   "codemirror_mode": {
    "name": "ipython",
    "version": 3
   },
   "file_extension": ".py",
   "mimetype": "text/x-python",
   "name": "python",
   "nbconvert_exporter": "python",
   "pygments_lexer": "ipython3",
   "version": "3.5.4"
  }
 },
 "nbformat": 4,
 "nbformat_minor": 2
}
