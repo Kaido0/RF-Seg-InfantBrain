{
 "cells": [
  {
   "cell_type": "markdown",
   "metadata": {},
   "source": [
    "## Parament"
   ]
  },
  {
   "cell_type": "code",
   "execution_count": 6,
   "metadata": {},
   "outputs": [],
   "source": [
    "%matplotlib inline\n",
    "import os\n",
    "import numpy as np\n",
    "import SimpleITK as sitk\n",
    "import matplotlib.pyplot as plt\n",
    "\n",
    "search_radius=2\n",
    "patch_size=7\n",
    "num_classes = 3\n",
    "layer=28 #要分割第几层\n",
    "\n",
    "test_path = 'datasets/testdata'\n",
    "train_path = 'datasets/traindata'\n",
    "\n",
    "patch_shape=(3,19,19)\n",
    "extraction_step=(3,5,5)"
   ]
  },
  {
   "cell_type": "markdown",
   "metadata": {},
   "source": [
    "## Utils"
   ]
  },
  {
   "cell_type": "code",
   "execution_count": 7,
   "metadata": {},
   "outputs": [],
   "source": [
    "def get_mask(GT, values, label):\n",
    "        if type(values) == int:\n",
    "            values = [values]\n",
    "        mask = np.zeros(GT.shape)\n",
    "        for i in range(len(values)):\n",
    "            mask += (GT == values[i]) * label\n",
    "        return mask\n",
    "    \n",
    "def read_vol(path,n):\n",
    "    path=os.path.join(path,n)\n",
    "    itk_img=sitk.ReadImage(path)\n",
    "    data=sitk.GetArrayFromImage(itk_img)\n",
    "    return data"
   ]
  },
  {
   "cell_type": "code",
   "execution_count": 8,
   "metadata": {},
   "outputs": [],
   "source": [
    "from sklearn.feature_extraction.image import extract_patches as sk_extract_patches\n",
    "def extract_patches(volume, patch_shape, extraction_step) :\n",
    "    patches = sk_extract_patches(\n",
    "        volume,\n",
    "        patch_shape=patch_shape,\n",
    "        extraction_step=extraction_step) \n",
    "    #patches.shape(3,54,54,27,27) 3:1+(50-27)/9,54:1+(512-27)/9\n",
    "    ndim = len(volume.shape) #dim=3\n",
    "    npatches = np.prod(patches.shape[:ndim]) #multiply each number\n",
    "    return patches.reshape((npatches, ) + patch_shape)\n",
    "\n",
    "def build_set(T2_vols, label_vols, patch_shape, extraction_step=(9, 9, 9)) :\n",
    "    patch_radius=int(patch_size/2)\n",
    "    r1=int(patch_shape[0]/2)\n",
    "    r2=int(patch_shape[1]/2)\n",
    "    r3=int(patch_shape[2]/2)\n",
    "    label_selector = [slice(None)] + [slice(r1,r1+1)]+[slice(r2, r2+1)]+[slice(r3,r3+1)]\n",
    "    x = np.zeros((0, patch_shape[0],patch_shape[1],patch_shape[2]))\n",
    "    y = np.zeros((0, 1))\n",
    "    for idx in range(len(T2_vols)) : #6\n",
    "        y_length = len(y) #0\n",
    "\n",
    "        label_patches = extract_patches(label_vols[idx], patch_shape, extraction_step)#（8748，7,7,7）\n",
    "        totalpatch = label_patches[label_selector] #(8748,1,1,1)\n",
    "        valid_idxs = np.where(totalpatch[:,0,0,0]!= 0) \n",
    "        label_patches = label_patches[valid_idxs] #(2614,1,1,1)\n",
    "\n",
    "        x = np.vstack((x, np.zeros((len(label_patches),patch_shape[0],patch_shape[1],patch_shape[2]))))\n",
    "        y = np.vstack((y, np.zeros((len(label_patches),1))))\n",
    "\n",
    "        for i in range(len(label_patches)) :\n",
    "            y[i+y_length, :]=label_patches[i,0,0,0]\n",
    "            #y[i+y_length, :, :] = np_utils.to_categorical(label_patches[i, : ,: ,:]-1, num_classes)\n",
    "        del label_patches\n",
    "        \n",
    "        # Sampling strategy: reject samples which labels are only zeros\n",
    "        T2_train = extract_patches(T2_vols[idx], patch_shape, extraction_step)\n",
    "        x[y_length:,:, :, :] = T2_train[valid_idxs]\n",
    "        del T2_train\n",
    "    return x, y,valid_idxs,totalpatch"
   ]
  },
  {
   "cell_type": "markdown",
   "metadata": {},
   "source": [
    "## 1.1 Read data &Processing data"
   ]
  },
  {
   "cell_type": "markdown",
   "metadata": {},
   "source": [
    "### (1) Train data"
   ]
  },
  {
   "cell_type": "code",
   "execution_count": 9,
   "metadata": {},
   "outputs": [],
   "source": [
    "T2_vols = np.empty((6, 50, 512, 512))\n",
    "label_vols = np.empty((6, 50, 512, 512))\n",
    "name=os.listdir(train_path)\n",
    "idx=0\n",
    "for n in name:\n",
    "    picname=n.split('.')[0]\n",
    "    if(picname.split('_')[-1]=='seg'):\n",
    "        continue  \n",
    "    segname=picname.split('_')[0]+'_seg.mha'\n",
    "    label_vols[idx]=read_vol(train_path,segname)\n",
    "    T2_vols[idx] = read_vol(train_path,n)\n",
    "    idx+=1\n",
    "\n",
    "## deal with label\n",
    "CSF_mask = get_mask(label_vols, values=[5,6], label=3)\n",
    "GM_mask = get_mask(label_vols, values=[1,7,8], label=1)\n",
    "WM_mask = get_mask(label_vols, values=[2], label=2)\n",
    "label_vols = CSF_mask + GM_mask + WM_mask  \n",
    "\n",
    "## Intensity normalisation (zero mean and unit variance)\n",
    "T2_mean = T2_vols.mean()\n",
    "T2_std = T2_vols.std()\n",
    "T2_vols = (T2_vols - T2_mean) / T2_std"
   ]
  },
  {
   "cell_type": "code",
   "execution_count": 10,
   "metadata": {},
   "outputs": [],
   "source": [
    "label_vols=label_vols[:,layer-1:layer+2]\n",
    "T2_vols=T2_vols[:,layer-1:layer+2]"
   ]
  },
  {
   "cell_type": "markdown",
   "metadata": {},
   "source": [
    "### (2) Test data"
   ]
  },
  {
   "cell_type": "code",
   "execution_count": 14,
   "metadata": {},
   "outputs": [
    {
     "name": "stdout",
     "output_type": "stream",
     "text": [
      "iC2\n"
     ]
    }
   ],
   "source": [
    "T2_test = np.empty((1, 50, 512, 512))\n",
    "ground_true = np.empty((1, 50, 512, 512))\n",
    "name=os.listdir(test_path)\n",
    "picname=name[0].split('_')[0]\n",
    "\n",
    "gtname=picname+'_seg.mha'\n",
    "testname=picname+'_t2.mha'\n",
    "\n",
    "ground_true[0]=read_vol(test_path,gtname)\n",
    "T2_test[0] = read_vol(test_path,testname)\n",
    "\n",
    "CSF_mask = get_mask(ground_true, values=[5,6], label=3)\n",
    "GM_mask = get_mask(ground_true, values=[1,7,8], label=1)\n",
    "WM_mask = get_mask(ground_true, values=[2], label=2)\n",
    "ground_true = CSF_mask + GM_mask + WM_mask \n",
    "\n",
    "## Intensity normalisation (zero mean and unit variance)\n",
    "T2_mean = T2_test.mean()\n",
    "T2_std = T2_test.std()\n",
    "T2_test = (T2_test - T2_mean) / T2_std"
   ]
  },
  {
   "cell_type": "code",
   "execution_count": 15,
   "metadata": {},
   "outputs": [],
   "source": [
    "ground_true=ground_true[:,layer-1:layer+2]\n",
    "T2_test=T2_test[:,layer-1:layer+2]"
   ]
  },
  {
   "cell_type": "code",
   "execution_count": 17,
   "metadata": {},
   "outputs": [
    {
     "name": "stdout",
     "output_type": "stream",
     "text": [
      "(6, 3, 512, 512)\n",
      "(1, 3, 512, 512)\n"
     ]
    }
   ],
   "source": [
    "print(label_vols.shape)\n",
    "print(T2_test.shape)"
   ]
  },
  {
   "cell_type": "markdown",
   "metadata": {},
   "source": [
    "## 1.2 Make Train dataset"
   ]
  },
  {
   "cell_type": "code",
   "execution_count": 25,
   "metadata": {},
   "outputs": [],
   "source": [
    "x_train,y_train,idx,repatch=build_set(T2_vols,label_vols,patch_shape,extraction_step)"
   ]
  },
  {
   "cell_type": "code",
   "execution_count": 26,
   "metadata": {},
   "outputs": [
    {
     "name": "stdout",
     "output_type": "stream",
     "text": [
      "GM: 5333\n",
      "WM: 5838\n",
      "CSF: 2368\n"
     ]
    }
   ],
   "source": [
    "print('GM:',np.sum(y_trian[:,0]==1))\n",
    "print('WM:',np.sum(y_trian[:,0]==2))\n",
    "print('CSF:',np.sum(y_trian[:,0]==3))"
   ]
  },
  {
   "cell_type": "code",
   "execution_count": 27,
   "metadata": {},
   "outputs": [],
   "source": [
    "x_train=x_train.reshape((x_train.shape[0],np.prod(patch_shape)))"
   ]
  },
  {
   "cell_type": "code",
   "execution_count": 28,
   "metadata": {},
   "outputs": [
    {
     "name": "stdout",
     "output_type": "stream",
     "text": [
      "(14286, 1083) (14286, 1)\n"
     ]
    }
   ],
   "source": [
    "print(x_train.shape,y_trian.shape)"
   ]
  },
  {
   "cell_type": "markdown",
   "metadata": {},
   "source": [
    "## 1.3 Training"
   ]
  },
  {
   "cell_type": "code",
   "execution_count": 29,
   "metadata": {},
   "outputs": [
    {
     "name": "stderr",
     "output_type": "stream",
     "text": [
      "/Users/zhangweiting/anaconda3/lib/python3.5/site-packages/ipykernel_launcher.py:3: DataConversionWarning: A column-vector y was passed when a 1d array was expected. Please change the shape of y to (n_samples,), for example using ravel().\n",
      "  This is separate from the ipykernel package so we can avoid doing imports until\n"
     ]
    },
    {
     "name": "stdout",
     "output_type": "stream",
     "text": [
      "0.769564608708\n"
     ]
    },
    {
     "name": "stderr",
     "output_type": "stream",
     "text": [
      "/Users/zhangweiting/anaconda3/lib/python3.5/site-packages/sklearn/ensemble/forest.py:451: UserWarning: Some inputs do not have OOB scores. This probably means too few trees were used to compute any reliable oob estimates.\n",
      "  warn(\"Some inputs do not have OOB scores. \"\n",
      "/Users/zhangweiting/anaconda3/lib/python3.5/site-packages/sklearn/ensemble/forest.py:456: RuntimeWarning: invalid value encountered in true_divide\n",
      "  predictions[k].sum(axis=1)[:, np.newaxis])\n"
     ]
    }
   ],
   "source": [
    "from sklearn.ensemble import RandomForestClassifier \n",
    "rf0 = RandomForestClassifier(oob_score=True, random_state=10)  \n",
    "rf0.fit(x_train,y_train)  \n",
    "print(rf0.oob_score_)"
   ]
  },
  {
   "cell_type": "markdown",
   "metadata": {},
   "source": [
    "## 2.1 Make Test dataset"
   ]
  },
  {
   "cell_type": "code",
   "execution_count": 30,
   "metadata": {},
   "outputs": [],
   "source": [
    "x_test,ground_true,index,fullpatch=build_set(T2_test,ground_true,patch_shape,(3,1,1))"
   ]
  },
  {
   "cell_type": "code",
   "execution_count": 31,
   "metadata": {},
   "outputs": [],
   "source": [
    "x_test=x_test.reshape((x_test.shape[0],np.prod(patch_shape)))"
   ]
  },
  {
   "cell_type": "markdown",
   "metadata": {},
   "source": [
    "## 2.2 Testing"
   ]
  },
  {
   "cell_type": "code",
   "execution_count": 33,
   "metadata": {},
   "outputs": [],
   "source": [
    "test_res=rf0.predict(x_test) #need to reshape\n",
    "test_res=test_res.reshape(test_res.shape[0],1)"
   ]
  },
  {
   "cell_type": "markdown",
   "metadata": {},
   "source": [
    "## 2.3 Dice"
   ]
  },
  {
   "cell_type": "code",
   "execution_count": 37,
   "metadata": {},
   "outputs": [],
   "source": [
    "def dice(gt,testlabel): #(2341,1)\n",
    "    a=np.sum(gt[:,0]==1)\n",
    "    b=np.sum(testlabel[:,0]==1)\n",
    "    m1g=np.where(gt[:,0]==1,1,0)\n",
    "    m1l=np.where(testlabel[:,0]==1,1,0)\n",
    "    m1=m1g+m1l\n",
    "    c1=np.sum(m1==2)\n",
    "    dice_gm=c1*2/(a+b)\n",
    "    \n",
    "    a=np.sum(gt[:,0]==2)\n",
    "    b=np.sum(testlabel[:,0]==2)\n",
    "    m2g=np.where(gt[:,0]==2,1,0)\n",
    "    m2l=np.where(testlabel[:,0]==2,1,0)\n",
    "    m2=m2g+m2l\n",
    "    c2=np.sum(m2==2)\n",
    "    dice_wm=c2*2/(a+b)\n",
    "    \n",
    "    a=np.sum(gt[:,0]==3)\n",
    "    b=np.sum(testlabel[:,0]==3)\n",
    "    m3g=np.where(gt[:,0]==3,1,0)\n",
    "    m3l=np.where(testlabel[:,0]==3,1,0)\n",
    "    m3=m3g+m3l\n",
    "    c3=np.sum(m3==2)\n",
    "    dice_csf=c3*2/(a+b)\n",
    "    return dice_gm,dice_wm,dice_csf"
   ]
  },
  {
   "cell_type": "code",
   "execution_count": 38,
   "metadata": {},
   "outputs": [],
   "source": [
    "dice_gm,dice_wm,dice_csf=dice(ground_true,test_res)"
   ]
  },
  {
   "cell_type": "code",
   "execution_count": 39,
   "metadata": {},
   "outputs": [
    {
     "name": "stdout",
     "output_type": "stream",
     "text": [
      "0.693376825982 0.787264048601 0.733513577054\n"
     ]
    }
   ],
   "source": [
    "print(dice_gm,dice_wm,dice_csf)"
   ]
  },
  {
   "cell_type": "markdown",
   "metadata": {},
   "source": [
    "## 2.4 Reconstruct Image"
   ]
  },
  {
   "cell_type": "code",
   "execution_count": 40,
   "metadata": {},
   "outputs": [],
   "source": [
    "from sklearn.feature_extraction.image import reconstruct_from_patches_2d"
   ]
  },
  {
   "cell_type": "code",
   "execution_count": 43,
   "metadata": {},
   "outputs": [
    {
     "name": "stdout",
     "output_type": "stream",
     "text": [
      "494\n"
     ]
    }
   ],
   "source": [
    "import math\n",
    "height=int(math.sqrt(fullpatch.shape[0]))\n",
    "print(height)"
   ]
  },
  {
   "cell_type": "code",
   "execution_count": 44,
   "metadata": {},
   "outputs": [],
   "source": [
    "fp=np.zeros((fullpatch.shape[0],1,1))\n",
    "fp[:,0,0]=fullpatch[:,0,0,0]\n",
    "result=reconstruct_from_patches_2d(fp,(height,height))"
   ]
  },
  {
   "cell_type": "code",
   "execution_count": 45,
   "metadata": {},
   "outputs": [
    {
     "data": {
      "text/plain": [
       "<matplotlib.image.AxesImage at 0x1652d9f60>"
      ]
     },
     "execution_count": 45,
     "metadata": {},
     "output_type": "execute_result"
    },
    {
     "data": {
      "image/png": "[encoded data removed]",
      "text/plain": [
       "<matplotlib.figure.Figure at 0x1653fdd68>"
      ]
     },
     "metadata": {},
     "output_type": "display_data"
    }
   ],
   "source": [
    "plt.imshow(result*80,cmap='gray')"
   ]
  }
 ],
 "metadata": {
  "kernelspec": {
   "display_name": "Python 3",
   "language": "python",
   "name": "python3"
  },
  "language_info": {
   "codemirror_mode": {
    "name": "ipython",
    "version": 3
   },
   "file_extension": ".py",
   "mimetype": "text/x-python",
   "name": "python",
   "nbconvert_exporter": "python",
   "pygments_lexer": "ipython3",
   "version": "3.5.4"
  }
 },
 "nbformat": 4,
 "nbformat_minor": 2
}
