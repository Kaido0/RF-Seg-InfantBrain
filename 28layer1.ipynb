{
 "cells": [
  {
   "cell_type": "markdown",
   "metadata": {},
   "source": [
    "# 1.准备工作"
   ]
  },
  {
   "cell_type": "markdown",
   "metadata": {},
   "source": [
    "## 1.1 设置参数"
   ]
  },
  {
   "cell_type": "code",
   "execution_count": 121,
   "metadata": {},
   "outputs": [],
   "source": [
    "%matplotlib inline\n",
    "import os\n",
    "import math\n",
    "import time\n",
    "import numpy as np\n",
    "from PIL import Image\n",
    "from scipy import misc\n",
    "import SimpleITK as sitk\n",
    "import matplotlib.pyplot as plt\n",
    "from sklearn.utils import shuffle\n",
    "from sklearn.ensemble import RandomForestClassifier \n",
    "from sklearn.feature_extraction.image import reconstruct_from_patches_2d\n",
    "from sklearn.feature_extraction.image import extract_patches as sk_extract_patches\n",
    "num_classes = 3\n",
    "layer=28 #要分割第几层\n",
    "\n",
    "test_path = 'datasets/testdata'\n",
    "train_path = 'datasets/traindata'\n",
    "\n",
    "patch_shape=(5,7,7)\n",
    "patch_shape1=(19,19)\n",
    "\n",
    "r=int(patch_shape[0]/2) #用到几层图像\n",
    "pr=int(patch_shape[1]/2)\n",
    "rr1=int(3/2) #第二层取3层原图 和 3张概率图\n",
    "extraction_step0=(3,1,1)\n",
    "extraction_step1=(1,1)"
   ]
  },
  {
   "cell_type": "markdown",
   "metadata": {},
   "source": [
    "## 1.2 自定义函数"
   ]
  },
  {
   "cell_type": "code",
   "execution_count": 2,
   "metadata": {},
   "outputs": [],
   "source": [
    "def get_mask(GT, values, label):\n",
    "        if type(values) == int:\n",
    "            values = [values]\n",
    "        mask = np.zeros(GT.shape)\n",
    "        for i in range(len(values)):\n",
    "            mask += (GT == values[i]) * label\n",
    "        return mask\n",
    "    \n",
    "def read_vol(path,n):\n",
    "    path=os.path.join(path,n)\n",
    "    itk_img=sitk.ReadImage(path)\n",
    "    data=sitk.GetArrayFromImage(itk_img)\n",
    "    return data\n",
    "\n",
    "def extract_patches(volume, patch_shape, extraction_step) :\n",
    "    patches = sk_extract_patches(\n",
    "        volume,\n",
    "        patch_shape=patch_shape,\n",
    "        extraction_step=extraction_step) \n",
    "    #patches.shape(3,54,54,27,27) 3:1+(50-27)/9,54:1+(512-27)/9\n",
    "    ndim = len(volume.shape) #dim=3\n",
    "    npatches = np.prod(patches.shape[:ndim]) #multiply each number\n",
    "    return patches.reshape((npatches, ) + patch_shape)"
   ]
  },
  {
   "cell_type": "markdown",
   "metadata": {},
   "source": [
    "#### 制作原图像的数据集"
   ]
  },
  {
   "cell_type": "code",
   "execution_count": 3,
   "metadata": {},
   "outputs": [],
   "source": [
    "def build_set(T2_vols, label_vols, patch_shape, extraction_step=(9, 9, 9)) :\n",
    "    r1=int(patch_shape[0]/2)\n",
    "    r2=int(patch_shape[1]/2)\n",
    "    r3=int(patch_shape[2]/2)\n",
    "    label_selector = [slice(None)] + [slice(r1,r1+1)]+[slice(r2, r2+1)]+[slice(r3,r3+1)]\n",
    "    x = np.zeros((0, patch_shape[0],patch_shape[1],patch_shape[2]))\n",
    "    y = np.zeros((0, 1))\n",
    "    for idx in range(len(T2_vols)) : #6\n",
    "        y_length = len(y) #0\n",
    "\n",
    "        label_patches = extract_patches(label_vols[idx], patch_shape, extraction_step)#（8748，7,7,7）\n",
    "        totalpatch = label_patches[label_selector] #(8748,1,1,1)\n",
    "\n",
    "        valid_idxs = np.where(totalpatch[:,0,0,0]!= 0) \n",
    "        label_patches = totalpatch[valid_idxs] #(2614,1,1,1)\n",
    "\n",
    "        x = np.vstack((x, np.zeros((len(label_patches),patch_shape[0],patch_shape[1],patch_shape[2]))))\n",
    "        y = np.vstack((y, np.zeros((len(label_patches),1))))\n",
    "\n",
    "        for i in range(len(label_patches)) :\n",
    "            y[i+y_length, :]=label_patches[i,0,0,0]\n",
    "        del label_patches\n",
    "        \n",
    "        T2_train = extract_patches(T2_vols[idx], patch_shape, extraction_step)\n",
    "        x[y_length:,:, :, :] = T2_train[valid_idxs]\n",
    "        del T2_train\n",
    "        \n",
    "    return x, y,valid_idxs,totalpatch"
   ]
  },
  {
   "cell_type": "code",
   "execution_count": 131,
   "metadata": {},
   "outputs": [],
   "source": [
    "def build_prob_set(prob_vols, label_vols, patch_shape1,extraction_step1=(9, 9)): \n",
    "    #输入 prob_vols:(6,5+3,512,512)\n",
    "    #    label_vols:(6,1,512,512)\n",
    "    r1=int(patch_shape1[0]/2)\n",
    "    r2=int(patch_shape1[1]/2)\n",
    "    label_selector = [slice(None)]+[slice(None)]+[slice(r1,r1+1)]+[slice(r2, r2+1)]\n",
    "    new_z=3+rr1*2+1\n",
    "    \n",
    "    x = np.zeros((0, new_z, patch_shape1[0],patch_shape1[1]))\n",
    "    y = np.zeros((0, 1))\n",
    "    for idx in range(len(prob_vols)):\n",
    "        y_length=len(y)\n",
    "        \n",
    "        label_patches = extract_patches(label_vols[idx], ((1,)+patch_shape1),((1,)+extraction_step1))\n",
    "        totalpatch = label_patches[label_selector]\n",
    "        valid_idxs = np.where(totalpatch[:,0,0,0]!= 0) \n",
    "        label_patches = totalpatch[valid_idxs]\n",
    "        \n",
    "        x = np.vstack((x, np.zeros((len(label_patches),new_z,patch_shape1[0],patch_shape1[1]))))\n",
    "        y = np.vstack((y, np.zeros((len(label_patches),1))))\n",
    "        \n",
    "        for i in range(len(label_patches)) :\n",
    "            y[i+y_length, :]=label_patches[i,0,0,0]\n",
    "        del label_patches\n",
    "        \n",
    "        prob_train=extract_patches(prob_vols[idx],((new_z,)+patch_shape1),((new_z,)+extraction_step1))\n",
    "        x[y_length:,:, :, :] = prob_train[valid_idxs]\n",
    "        del prob_train\n",
    "        \n",
    "    return x,y,valid_idxs,totalpatch"
   ]
  },
  {
   "cell_type": "markdown",
   "metadata": {},
   "source": [
    "#### 制作原图像+图谱图像的数据集"
   ]
  },
  {
   "cell_type": "code",
   "execution_count": 133,
   "metadata": {},
   "outputs": [],
   "source": [
    "def build_set_with_prob(T2_vols,label_vols,layer,rf,patch_shape1,extraction_step1):#patch_shape=[1,n,n]\n",
    "#     输入：T2_vols:(6,50,5)\n",
    "    x= np.zeros((0, np.prod(patch_shape1)))\n",
    "    y= np.zeros((0, 1))\n",
    "    new_vol=np.zeros((len(T2_vols),3+rr1*2+1,512,512))\n",
    "    new_label=np.zeros((len(T2_vols),1,512,512))\n",
    "    for n in range(len(T2_vols)):\n",
    "        \n",
    "        label_v=label_vols[:,layer-r:layer+r+1]\n",
    "        T2_v=T2_vols[:,layer-r:layer+r+1]\n",
    "        \n",
    "        t2=np.zeros((1,T2_v.shape[1],T2_v.shape[2],T2_v.shape[3]))\n",
    "        l=np.zeros((1,T2_v.shape[1],T2_v.shape[2],T2_v.shape[3]))\n",
    "        t2[0]=T2_v[n]\n",
    "        l[0]=label_v[n]\n",
    "\n",
    "        x_test,ground_true,index,fullpatch=build_set(t2,l,patch_shape,(3,1,1))\n",
    "        x_test=x_test.reshape((x_test.shape[0],np.prod(patch_shape)))\n",
    "\n",
    "        test_res=rf.predict(x_test) #need to reshape\n",
    "        test_res=test_res.reshape(test_res.shape[0],1)\n",
    "\n",
    "        c=rf0.predict_proba(x_test)\n",
    "\n",
    "        # 求训练个体的概率图\n",
    "        height=int(math.sqrt(fullpatch.shape[0]))\n",
    "\n",
    "        gm=c[:,0]\n",
    "        gm=gm.reshape((len(gm),1))\n",
    "        probgm=np.zeros((fullpatch.shape[0],1,1))\n",
    "        probgm[:,0,0]=fullpatch[:,0,0,0]\n",
    "        probgm[index,0,0]=gm[:,0]\n",
    "        gm=reconstruct_from_patches_2d(probgm,(height,height)) \n",
    "\n",
    "        wm=c[:,1]\n",
    "        wm=wm.reshape((len(wm),1))\n",
    "        probwm=np.zeros((fullpatch.shape[0],1,1))\n",
    "        probwm[:,0,0]=fullpatch[:,0,0,0]\n",
    "        probwm[index,0,0]=wm[:,0]\n",
    "        wm=reconstruct_from_patches_2d(probwm,(height,height)) \n",
    "\n",
    "        csf=c[:,2]\n",
    "        csf=csf.reshape((len(csf),1))\n",
    "        probcsf=np.zeros((fullpatch.shape[0],1,1))\n",
    "        probcsf[:,0,0]=fullpatch[:,0,0,0]\n",
    "        probcsf[index,0,0]=csf[:,0]\n",
    "        csf=reconstruct_from_patches_2d(probcsf,(height,height)) \n",
    "\n",
    "        gm_mask=np.zeros((512,512))\n",
    "        wm_mask=np.zeros((512,512))\n",
    "        csf_mask=np.zeros((512,512))\n",
    "        gm_mask[pr:512-pr,pr:512-pr]=gm\n",
    "        wm_mask[pr:512-pr,pr:512-pr]=wm\n",
    "        csf_mask[pr:512-pr,pr:512-pr]=csf\n",
    "        \n",
    "        new_vol[n,0:1+rr1*2]=T2_vols[n,layer-rr1:layer+rr1+1]\n",
    "        new_vol[n,1+rr1*2]=gm_mask\n",
    "        new_vol[n,1+1+rr1*2]=wm_mask\n",
    "        new_vol[n,2+1+rr1*2]=csf_mask\n",
    "        \n",
    "    new_mean = new_vol.mean()\n",
    "    new_std = new_vol.std()\n",
    "    new_vol = (new_vol - new_mean) / new_std\n",
    "    new_label[:,0]=label_vols[:,layer]\n",
    "    \n",
    "    x,y,index,fullpatch=build_prob_set(new_vol,new_label,patch_shape1,extraction_step1)\n",
    "    \n",
    "    return x,y,index,fullpatch"
   ]
  },
  {
   "cell_type": "markdown",
   "metadata": {},
   "source": [
    "#### 调整数据分布"
   ]
  },
  {
   "cell_type": "code",
   "execution_count": 78,
   "metadata": {},
   "outputs": [],
   "source": [
    "def sufful_data(x_train,y_train,ground_true):\n",
    "    gm_tr=np.sum(y_train[:,0]==1)\n",
    "    wm_tr=np.sum(y_train[:,0]==2)\n",
    "    csf_tr=np.sum(y_train[:,0]==3)\n",
    "\n",
    "    gm_gt=np.sum(ground_true[:,0]==1)\n",
    "    wm_gt=np.sum(ground_true[:,0]==2)\n",
    "    csf_gt=np.sum(ground_true[:,0]==3)\n",
    "\n",
    "    #由于训练样本不同类的数量不一样，找到一个基准，将所有类调成GT的分布\n",
    "    p1=gm_tr/gm_gt\n",
    "    p2=wm_tr/wm_gt\n",
    "    p3=csf_tr/csf_gt\n",
    "    p=[p1,p2,p3]\n",
    "    max_class=p.index(min(p))\n",
    "\n",
    "    # 正常该有的分布 根据ground true确定 \n",
    "    total=ground_true.shape[0] \n",
    "    gm=np.sum(ground_true[:,0]==1)\n",
    "    wm=np.sum(ground_true[:,0]==2)\n",
    "    csf=np.sum(ground_true[:,0]==3)\n",
    "\n",
    "    gm_percentage=gm/total\n",
    "    wm_percentage=wm/total\n",
    "    csf_percentage=csf/total\n",
    "\n",
    "    percetange=[gm_percentage,wm_percentage,csf_percentage]\n",
    "    percetange=percetange/percetange[max_class]\n",
    "\n",
    "    train_number=percetange*[gm_tr,wm_tr,csf_tr]\n",
    "    train_number=np.array(train_number,dtype='int') \n",
    "\n",
    "    #求出训练样本各个类的索引位置\n",
    "    gm_tr_index=np.where(y_train[:,0]==1)\n",
    "    wm_tr_index=np.where(y_train[:,0]==2)\n",
    "    csf_tr_index=np.where(y_train[:,0]==3)\n",
    "    gm_tr_index=np.array(gm_tr_index).T\n",
    "    wm_tr_index=np.array(wm_tr_index).T\n",
    "    csf_tr_index=np.array(csf_tr_index).T\n",
    "\n",
    "    #打乱样本编号\n",
    "    #要丢弃对样本编号\n",
    "    drop_gm_idx=shuffle(gm_tr_index)[:len(gm_tr_index)-train_number[0]]\n",
    "    drop_wm_idx=shuffle(wm_tr_index)[:len(wm_tr_index)-train_number[1]]\n",
    "    drop_csf_idx=shuffle(csf_tr_index)[:len(csf_tr_index)-train_number[2]] #(....,1)\n",
    "\n",
    "    #合并要丢弃对样本\n",
    "    drop_num=np.vstack((drop_gm_idx,drop_wm_idx,drop_csf_idx))\n",
    "    #转换类型\n",
    "    drop_idx=drop_num.reshape((drop_num.shape[0]))\n",
    "\n",
    "    xt=np.delete(x_train,drop_idx,axis=0)\n",
    "    yt=np.delete(y_train,drop_idx,axis=0)\n",
    "    return xt,yt"
   ]
  },
  {
   "cell_type": "code",
   "execution_count": 5,
   "metadata": {},
   "outputs": [],
   "source": [
    "def dice(gt,testlabel): #(2341,1)\n",
    "    a=np.sum(gt[:,0]==1)\n",
    "    b=np.sum(testlabel[:,0]==1)\n",
    "    m1g=np.where(gt[:,0]==1,1,0)\n",
    "    m1l=np.where(testlabel[:,0]==1,1,0)\n",
    "    m1=m1g+m1l\n",
    "    c1=np.sum(m1==2)\n",
    "    dice_gm=c1*2/(a+b)\n",
    "    \n",
    "    a=np.sum(gt[:,0]==2)\n",
    "    b=np.sum(testlabel[:,0]==2)\n",
    "    m2g=np.where(gt[:,0]==2,1,0)\n",
    "    m2l=np.where(testlabel[:,0]==2,1,0)\n",
    "    m2=m2g+m2l\n",
    "    c2=np.sum(m2==2)\n",
    "    dice_wm=c2*2/(a+b)\n",
    "    \n",
    "    a=np.sum(gt[:,0]==3)\n",
    "    b=np.sum(testlabel[:,0]==3)\n",
    "    m3g=np.where(gt[:,0]==3,1,0)\n",
    "    m3l=np.where(testlabel[:,0]==3,1,0)\n",
    "    m3=m3g+m3l\n",
    "    c3=np.sum(m3==2)\n",
    "    dice_csf=c3*2/(a+b)\n",
    "    \n",
    "    total=np.sum(gt)\n",
    "    dice_total=(c1*2+c2*2+c3*2)/total\n",
    "    return dice_gm,dice_wm,dice_csf,dice_total"
   ]
  },
  {
   "cell_type": "markdown",
   "metadata": {},
   "source": [
    "## 1.3 读数据"
   ]
  },
  {
   "cell_type": "markdown",
   "metadata": {},
   "source": [
    "### (1) 训练图像"
   ]
  },
  {
   "cell_type": "code",
   "execution_count": 6,
   "metadata": {},
   "outputs": [],
   "source": [
    "T2_vols = np.empty((6, 50, 512, 512))\n",
    "label_vols = np.empty((6, 50, 512, 512))\n",
    "name=os.listdir(train_path)\n",
    "idx=0\n",
    "for n in name:\n",
    "    picname=n.split('.')[0]\n",
    "    if(picname.split('_')[-1]=='seg'):\n",
    "        continue  \n",
    "    segname=picname.split('_')[0]+'_seg.mha'\n",
    "    label_vols[idx]=read_vol(train_path,segname)\n",
    "    T2_vols[idx] = read_vol(train_path,n)\n",
    "    idx+=1\n",
    "\n",
    "CSF_mask = get_mask(label_vols, values=[5,6], label=3)\n",
    "GM_mask = get_mask(label_vols, values=[1,7,8], label=1)\n",
    "WM_mask = get_mask(label_vols, values=[2], label=2)\n",
    "label_vols = CSF_mask + GM_mask + WM_mask  \n",
    "\n",
    "T2_mean = T2_vols.mean()\n",
    "T2_std = T2_vols.std()\n",
    "T2_vols = (T2_vols - T2_mean) / T2_std"
   ]
  },
  {
   "cell_type": "code",
   "execution_count": 33,
   "metadata": {},
   "outputs": [
    {
     "name": "stdout",
     "output_type": "stream",
     "text": [
      "(6, 5, 512, 512)\n",
      "(6, 50, 512, 512)\n"
     ]
    }
   ],
   "source": [
    "label_v=label_vols[:,layer-r:layer+r+1]\n",
    "T2_v=T2_vols[:,layer-r:layer+r+1]\n",
    "print(T2_v.shape)\n",
    "print(T2_vols.shape)"
   ]
  },
  {
   "cell_type": "markdown",
   "metadata": {},
   "source": [
    "### (2) 测试图像"
   ]
  },
  {
   "cell_type": "code",
   "execution_count": 7,
   "metadata": {},
   "outputs": [],
   "source": [
    "T2_test = np.empty((1, 50, 512, 512))\n",
    "ground_true = np.empty((1, 50, 512, 512))\n",
    "name=os.listdir(test_path)\n",
    "picname=name[0].split('_')[0]\n",
    "\n",
    "gtname=picname+'_seg.mha'\n",
    "testname=picname+'_t2.mha'\n",
    "\n",
    "ground_true[0]=read_vol(test_path,gtname)\n",
    "T2_test[0] = read_vol(test_path,testname)\n",
    "\n",
    "CSF_mask = get_mask(ground_true, values=[5,6], label=3)\n",
    "GM_mask = get_mask(ground_true, values=[1,7,8], label=1)\n",
    "WM_mask = get_mask(ground_true, values=[2], label=2)\n",
    "gt_mask = CSF_mask + GM_mask + WM_mask \n",
    "\n",
    "T2_mean = T2_test.mean()\n",
    "T2_std = T2_test.std()\n",
    "T2_test = (T2_test - T2_mean) / T2_std"
   ]
  },
  {
   "cell_type": "code",
   "execution_count": 16,
   "metadata": {},
   "outputs": [],
   "source": [
    "ground_t=gt_mask[:,layer-r:layer+r+1]\n",
    "T2_t=T2_test[:,layer-r:layer+r+1]"
   ]
  },
  {
   "cell_type": "markdown",
   "metadata": {},
   "source": [
    "### (3) 制作第一层测试集"
   ]
  },
  {
   "cell_type": "code",
   "execution_count": 34,
   "metadata": {},
   "outputs": [
    {
     "name": "stdout",
     "output_type": "stream",
     "text": [
      "(60531, 245) (60531, 1)\n"
     ]
    }
   ],
   "source": [
    "x_test,ground_true,index,fullpatch=build_set(T2_t,ground_t,patch_shape,(3,1,1))\n",
    "x_test=x_test.reshape((x_test.shape[0],np.prod(patch_shape)))\n",
    "print(x_test.shape,ground_true.shape)"
   ]
  },
  {
   "cell_type": "markdown",
   "metadata": {},
   "source": [
    "### (4) 制作第二层测试集"
   ]
  },
  {
   "cell_type": "code",
   "execution_count": 134,
   "metadata": {},
   "outputs": [
    {
     "name": "stdout",
     "output_type": "stream",
     "text": [
      "(60531, 2166)\n"
     ]
    }
   ],
   "source": [
    "x_test1,ground_true1,index1,fullpatch1=build_set_with_prob(T2_test,gt_mask,layer,rf0,patch_shape1,extraction_step1)\n",
    "x_test1=x_test1.reshape((x_test1.shape[0],np.prod(((3+rr1*2+1,)+patch_shape1))))\n",
    "print(x_test1.shape)"
   ]
  },
  {
   "cell_type": "code",
   "execution_count": 128,
   "metadata": {},
   "outputs": [
    {
     "data": {
      "text/plain": [
       "(60531, 5, 19, 19)"
      ]
     },
     "execution_count": 128,
     "metadata": {},
     "output_type": "execute_result"
    }
   ],
   "source": [
    "x_test1.shape"
   ]
  },
  {
   "cell_type": "markdown",
   "metadata": {},
   "source": [
    "### (5) 制作第三层测试集"
   ]
  },
  {
   "cell_type": "code",
   "execution_count": null,
   "metadata": {},
   "outputs": [],
   "source": [
    "x_test2,ground_true2,index2,fullpatch2=build_set_with_prob(T2_test,gt_mask,layer,rf1,patch_shape2,extraction_step2)\n",
    "x_test2=x_test2.reshape((x_test2.shape[0],np.prod(((3+patch_shape[0],)+patch_shape2))))\n",
    "print(x_test2.shape)"
   ]
  },
  {
   "cell_type": "markdown",
   "metadata": {},
   "source": [
    "## ----------------------------------------------------------------------------------------------------------------"
   ]
  },
  {
   "cell_type": "markdown",
   "metadata": {},
   "source": [
    "# 2. 训练"
   ]
  },
  {
   "cell_type": "markdown",
   "metadata": {},
   "source": [
    "## 2.1 第一层训练"
   ]
  },
  {
   "cell_type": "markdown",
   "metadata": {},
   "source": [
    "### (1) 制作训练集并调整分布"
   ]
  },
  {
   "cell_type": "code",
   "execution_count": 79,
   "metadata": {},
   "outputs": [
    {
     "name": "stdout",
     "output_type": "stream",
     "text": [
      "(356618, 245) (356618, 1)\n"
     ]
    }
   ],
   "source": [
    "x_train,y_train,idx,repatch=build_set(T2_v,label_v,patch_shape,extraction_step0)\n",
    "x_train=x_train.reshape((x_train.shape[0],np.prod(patch_shape)))\n",
    "print(x_train.shape,y_train.shape)\n",
    "xt0,yt0=sufful_data(x_train,y_train,ground_true)"
   ]
  },
  {
   "cell_type": "markdown",
   "metadata": {},
   "source": [
    "### (2) 第一层训练"
   ]
  },
  {
   "cell_type": "code",
   "execution_count": 36,
   "metadata": {},
   "outputs": [
    {
     "name": "stderr",
     "output_type": "stream",
     "text": [
      "/Users/zhangweiting/anaconda3/lib/python3.5/site-packages/ipykernel_launcher.py:3: DataConversionWarning: A column-vector y was passed when a 1d array was expected. Please change the shape of y to (n_samples,), for example using ravel().\n",
      "  This is separate from the ipykernel package so we can avoid doing imports until\n"
     ]
    },
    {
     "name": "stdout",
     "output_type": "stream",
     "text": [
      "Time used: 4.6640585\n"
     ]
    }
   ],
   "source": [
    "start = time.clock()\n",
    "rf0 = RandomForestClassifier(n_estimators=60)  \n",
    "rf0.fit(xt0,yt0)\n",
    "elapsed = (time.clock()- start)\n",
    "print(\"Time used:\",elapsed/60)"
   ]
  },
  {
   "cell_type": "markdown",
   "metadata": {},
   "source": [
    "## 2.2 第二层训练"
   ]
  },
  {
   "cell_type": "markdown",
   "metadata": {},
   "source": [
    "### (1) 制作第二层训练集并调整分布"
   ]
  },
  {
   "cell_type": "code",
   "execution_count": 135,
   "metadata": {},
   "outputs": [
    {
     "name": "stdout",
     "output_type": "stream",
     "text": [
      "(356618, 2166) (356618, 1)\n"
     ]
    },
    {
     "ename": "NameError",
     "evalue": "name 'ground_tound_true' is not defined",
     "output_type": "error",
     "traceback": [
      "\u001b[0;31m---------------------------------------------------------------------------\u001b[0m",
      "\u001b[0;31mNameError\u001b[0m                                 Traceback (most recent call last)",
      "\u001b[0;32m<ipython-input-135-df57901ac427>\u001b[0m in \u001b[0;36m<module>\u001b[0;34m()\u001b[0m\n\u001b[1;32m      2\u001b[0m \u001b[0mx_train\u001b[0m\u001b[0;34m=\u001b[0m\u001b[0mx_train\u001b[0m\u001b[0;34m.\u001b[0m\u001b[0mreshape\u001b[0m\u001b[0;34m(\u001b[0m\u001b[0;34m(\u001b[0m\u001b[0mx_train\u001b[0m\u001b[0;34m.\u001b[0m\u001b[0mshape\u001b[0m\u001b[0;34m[\u001b[0m\u001b[0;36m0\u001b[0m\u001b[0;34m]\u001b[0m\u001b[0;34m,\u001b[0m\u001b[0mnp\u001b[0m\u001b[0;34m.\u001b[0m\u001b[0mprod\u001b[0m\u001b[0;34m(\u001b[0m\u001b[0;34m(\u001b[0m\u001b[0;34m(\u001b[0m\u001b[0;36m3\u001b[0m\u001b[0;34m+\u001b[0m\u001b[0mrr1\u001b[0m\u001b[0;34m*\u001b[0m\u001b[0;36m2\u001b[0m\u001b[0;34m+\u001b[0m\u001b[0;36m1\u001b[0m\u001b[0;34m,\u001b[0m\u001b[0;34m)\u001b[0m\u001b[0;34m+\u001b[0m\u001b[0mpatch_shape1\u001b[0m\u001b[0;34m)\u001b[0m\u001b[0;34m)\u001b[0m\u001b[0;34m)\u001b[0m\u001b[0;34m)\u001b[0m\u001b[0;34m\u001b[0m\u001b[0m\n\u001b[1;32m      3\u001b[0m \u001b[0mprint\u001b[0m\u001b[0;34m(\u001b[0m\u001b[0mx_train\u001b[0m\u001b[0;34m.\u001b[0m\u001b[0mshape\u001b[0m\u001b[0;34m,\u001b[0m\u001b[0my_train\u001b[0m\u001b[0;34m.\u001b[0m\u001b[0mshape\u001b[0m\u001b[0;34m)\u001b[0m\u001b[0;34m\u001b[0m\u001b[0m\n\u001b[0;32m----> 4\u001b[0;31m \u001b[0mxt1\u001b[0m\u001b[0;34m,\u001b[0m\u001b[0myt1\u001b[0m\u001b[0;34m=\u001b[0m\u001b[0msufful_data\u001b[0m\u001b[0;34m(\u001b[0m\u001b[0mx_train\u001b[0m\u001b[0;34m,\u001b[0m\u001b[0my_train\u001b[0m\u001b[0;34m,\u001b[0m\u001b[0mground_tound_true\u001b[0m\u001b[0;34m)\u001b[0m\u001b[0;34m\u001b[0m\u001b[0m\n\u001b[0m",
      "\u001b[0;31mNameError\u001b[0m: name 'ground_tound_true' is not defined"
     ]
    }
   ],
   "source": [
    "x_train,y_train,idx1,repatch1=build_set_with_prob(T2_vols,label_vols,layer,rf0,patch_shape1,extraction_step1)\n",
    "x_train=x_train.reshape((x_train.shape[0],np.prod(((3+rr1*2+1,)+patch_shape1))))\n",
    "print(x_train.shape,y_train.shape)\n",
    "xt1,yt1=sufful_data(x_train,y_train,ground_true)"
   ]
  },
  {
   "cell_type": "markdown",
   "metadata": {},
   "source": [
    "### (2) 第二层训练"
   ]
  },
  {
   "cell_type": "code",
   "execution_count": 137,
   "metadata": {},
   "outputs": [
    {
     "name": "stderr",
     "output_type": "stream",
     "text": [
      "/Users/zhangweiting/anaconda3/lib/python3.5/site-packages/ipykernel_launcher.py:3: DataConversionWarning: A column-vector y was passed when a 1d array was expected. Please change the shape of y to (n_samples,), for example using ravel().\n",
      "  This is separate from the ipykernel package so we can avoid doing imports until\n"
     ]
    },
    {
     "name": "stdout",
     "output_type": "stream",
     "text": [
      "Time used: 7.558889849999999\n"
     ]
    }
   ],
   "source": [
    "start = time.clock()\n",
    "rf1 = RandomForestClassifier(n_estimators=60)  \n",
    "rf1.fit(xt1,yt1)\n",
    "elapsed = (time.clock()- start)\n",
    "print(\"Time used:\",elapsed/60)"
   ]
  },
  {
   "cell_type": "markdown",
   "metadata": {},
   "source": [
    "## 2.3 第三层训练"
   ]
  },
  {
   "cell_type": "markdown",
   "metadata": {},
   "source": [
    "### (1) 制作第三层训练集并调整分布"
   ]
  },
  {
   "cell_type": "code",
   "execution_count": null,
   "metadata": {},
   "outputs": [],
   "source": [
    "x_train,y_train,idx2,repatch2=build_set_with_prob(T2_vols,label_vols,layer,rf1,patch_shape2,extraction_step2)\n",
    "x_train=x_train.reshape((x_train.shape[0],np.prod(((3+patch_shape[0],)+patch_shape2))))\n",
    "print(x_train.shape,y_train.shape)\n",
    "xt2,yt2=sufful_data(x_train,y_train,ground_true)"
   ]
  },
  {
   "cell_type": "markdown",
   "metadata": {},
   "source": [
    "### (2) 第三层训练"
   ]
  },
  {
   "cell_type": "code",
   "execution_count": null,
   "metadata": {},
   "outputs": [],
   "source": [
    "start = time.clock()\n",
    "rf2 = RandomForestClassifier(n_estimators=60)  \n",
    "rf2.fit(xt2,yt2)\n",
    "elapsed = (time.clock()- start)\n",
    "print(\"Time used:\",elapsed/60)"
   ]
  },
  {
   "cell_type": "markdown",
   "metadata": {},
   "source": [
    "## ----------------------------------------------------------------------------------------------------------------"
   ]
  },
  {
   "cell_type": "markdown",
   "metadata": {},
   "source": [
    "# 3. 测试"
   ]
  },
  {
   "cell_type": "markdown",
   "metadata": {},
   "source": [
    "## 3.1 第一层输出"
   ]
  },
  {
   "cell_type": "code",
   "execution_count": 38,
   "metadata": {},
   "outputs": [
    {
     "name": "stdout",
     "output_type": "stream",
     "text": [
      "0.827241611912 0.89098754376 0.876656472987\n",
      "0.920840602835\n"
     ]
    }
   ],
   "source": [
    "height=int(math.sqrt(fullpatch.shape[0]))\n",
    "test_res0=rf0.predict(x_test) #need to reshape\n",
    "test_res0=test_res0.reshape(test_res0.shape[0],1)\n",
    "c0=rf0.predict_proba(x_test)\n",
    "\n",
    "dice_gm,dice_wm,dice_csf,dice_total=dice(ground_true,test_res0)\n",
    "print(dice_gm,dice_wm,dice_csf)\n",
    "print(dice_total)"
   ]
  },
  {
   "cell_type": "code",
   "execution_count": 100,
   "metadata": {},
   "outputs": [
    {
     "data": {
      "text/plain": [
       "<matplotlib.image.AxesImage at 0x11af9c278>"
      ]
     },
     "execution_count": 100,
     "metadata": {},
     "output_type": "execute_result"
    },
    {
     "data": {
      "image/png": "[encoded data removed]",
      "text/plain": [
       "<matplotlib.figure.Figure at 0x117f09ac8>"
      ]
     },
     "metadata": {},
     "output_type": "display_data"
    }
   ],
   "source": [
    "test=np.zeros((fullpatch.shape[0],1,1))\n",
    "test[:,0,0]=fullpatch[:,0,0,0]\n",
    "test[index,0,0]=test_res0[:,0]\n",
    "test_0=reconstruct_from_patches_2d(test,(height,height)) \n",
    "plt.imshow(test_0,cmap='gray')"
   ]
  },
  {
   "cell_type": "code",
   "execution_count": 33,
   "metadata": {},
   "outputs": [],
   "source": [
    "misc.imsave(\"L1-P5_7_7-Tree60.bmp\",test_0)"
   ]
  },
  {
   "cell_type": "markdown",
   "metadata": {},
   "source": [
    "## 3.2 第二层输出"
   ]
  },
  {
   "cell_type": "code",
   "execution_count": 138,
   "metadata": {},
   "outputs": [
    {
     "name": "stdout",
     "output_type": "stream",
     "text": [
      "0.780655512262 0.847596655294 0.903426791277\n",
      "0.884228614513\n"
     ]
    }
   ],
   "source": [
    "height1=int(math.sqrt(fullpatch1.shape[0]))\n",
    "test_res1=rf1.predict(x_test1) #need to reshape\n",
    "test_res1=test_res1.reshape(test_res1.shape[0],1)\n",
    "c1=rf1.predict_proba(x_test1)\n",
    "\n",
    "dice_gm,dice_wm,dice_csf,dice_total=dice(ground_true1,test_res1)\n",
    "print(dice_gm,dice_wm,dice_csf)\n",
    "print(dice_total)"
   ]
  },
  {
   "cell_type": "code",
   "execution_count": 139,
   "metadata": {},
   "outputs": [
    {
     "data": {
      "text/plain": [
       "<matplotlib.image.AxesImage at 0x11b7d7518>"
      ]
     },
     "execution_count": 139,
     "metadata": {},
     "output_type": "execute_result"
    },
    {
     "data": {
      "image/png": "[encoded data removed]",
      "text/plain": [
       "<matplotlib.figure.Figure at 0x11addc780>"
      ]
     },
     "metadata": {},
     "output_type": "display_data"
    }
   ],
   "source": [
    "height1=int(math.sqrt(fullpatch1.shape[0]))\n",
    "test=np.zeros((fullpatch1.shape[0],1,1))\n",
    "test[:,0,0]=fullpatch1[:,0,0,0]\n",
    "test[index1,0,0]=test_res1[:,0]\n",
    "test_1=reconstruct_from_patches_2d(test,(height1,height1)) \n",
    "plt.imshow(test_1,cmap='gray')"
   ]
  },
  {
   "cell_type": "code",
   "execution_count": 140,
   "metadata": {},
   "outputs": [],
   "source": [
    "misc.imsave(\"L2-P1(5,7,7)-P2(3,19,19)-Tree60.bmp\",test_1)"
   ]
  },
  {
   "cell_type": "markdown",
   "metadata": {},
   "source": [
    "## 3.3 第三层输出"
   ]
  },
  {
   "cell_type": "code",
   "execution_count": 37,
   "metadata": {},
   "outputs": [
    {
     "name": "stdout",
     "output_type": "stream",
     "text": [
      "0.706787844362 0.836674067357 0.665753174386\n",
      "0.815125240003\n"
     ]
    }
   ],
   "source": [
    "test_res2=rf1.predict(x_test2) #need to reshape\n",
    "test_res2=test_res2.reshape(test_res2.shape[0],1)\n",
    "c2=rf2.predict_proba(x_test2)\n",
    "\n",
    "dice_gm,dice_wm,dice_csf,dice_total=dice(ground_true2,test_res2)\n",
    "print(dice_gm,dice_wm,dice_csf)\n",
    "print(dice_total)"
   ]
  },
  {
   "cell_type": "code",
   "execution_count": null,
   "metadata": {},
   "outputs": [],
   "source": [
    "height2=int(math.sqrt(fullpatch2.shape[0]))\n",
    "test=np.zeros((fullpatch2.shape[0],1,1))\n",
    "test[:,0,0]=fullpatch2[:,0,0,0]\n",
    "test[index,0,0]=test_res2[:,0]\n",
    "test_2=reconstruct_from_patches_2d(test,(height2,height2)) \n",
    "plt.imshow(test_2,cmap='gray')"
   ]
  },
  {
   "cell_type": "code",
   "execution_count": null,
   "metadata": {},
   "outputs": [],
   "source": [
    "misc.imsave(\"L3-P5_7_7-Tree60.bmp\",test_2)"
   ]
  },
  {
   "cell_type": "code",
   "execution_count": null,
   "metadata": {},
   "outputs": [],
   "source": []
  },
  {
   "cell_type": "markdown",
   "metadata": {},
   "source": [
    "# 4.测试原图和标签"
   ]
  },
  {
   "cell_type": "markdown",
   "metadata": {},
   "source": [
    "## 4.1 金标准"
   ]
  },
  {
   "cell_type": "code",
   "execution_count": 81,
   "metadata": {},
   "outputs": [
    {
     "name": "stdout",
     "output_type": "stream",
     "text": [
      "(258064, 1, 1)\n"
     ]
    }
   ],
   "source": [
    "fp=np.zeros((fullpatch.shape[0],1,1))\n",
    "fp[:,0,0]=fullpatch[:,0,0,0]\n",
    "GT=reconstruct_from_patches_2d(fp,(height,height)) \n",
    "plt.imshow(GT,cmap='gray')"
   ]
  },
  {
   "cell_type": "code",
   "execution_count": 82,
   "metadata": {},
   "outputs": [
    {
     "data": {
      "text/plain": [
       "<matplotlib.image.AxesImage at 0x112dd94a8>"
      ]
     },
     "execution_count": 82,
     "metadata": {},
     "output_type": "execute_result"
    },
    {
     "data": {
      "image/png": "[encoded data removed]",
      "text/plain": [
       "<matplotlib.figure.Figure at 0x112dbbc18>"
      ]
     },
     "metadata": {},
     "output_type": "display_data"
    }
   ],
   "source": [
    "misc.imsave(\"GroundTrue.bmp\",GT)"
   ]
  },
  {
   "cell_type": "markdown",
   "metadata": {},
   "source": [
    "## 4.2 原图"
   ]
  },
  {
   "cell_type": "code",
   "execution_count": 137,
   "metadata": {},
   "outputs": [
    {
     "data": {
      "text/plain": [
       "<matplotlib.image.AxesImage at 0x10faf3518>"
      ]
     },
     "execution_count": 137,
     "metadata": {},
     "output_type": "execute_result"
    },
    {
     "data": {
      "image/png": "[encoded data removed]",
      "text/plain": [
       "<matplotlib.figure.Figure at 0x10f5ba748>"
      ]
     },
     "metadata": {},
     "output_type": "display_data"
    }
   ],
   "source": [
    "plt.imshow(T2_vols[0,28],cmap='gray')"
   ]
  },
  {
   "cell_type": "markdown",
   "metadata": {},
   "source": [
    "### (3)GM Prob"
   ]
  },
  {
   "cell_type": "code",
   "execution_count": 55,
   "metadata": {},
   "outputs": [],
   "source": [
    "gm=c[:,0]\n",
    "gm=gm.reshape((len(gm),1))\n",
    "probgm=np.zeros((fullpatch.shape[0],1,1))\n",
    "probgm[:,0,0]=fullpatch[:,0,0,0]\n",
    "probgm[index,0,0]=gm[:,0]\n",
    "gm=reconstruct_from_patches_2d(probgm,(height,height)) "
   ]
  },
  {
   "cell_type": "code",
   "execution_count": 56,
   "metadata": {},
   "outputs": [
    {
     "data": {
      "text/plain": [
       "<matplotlib.image.AxesImage at 0x128464320>"
      ]
     },
     "execution_count": 56,
     "metadata": {},
     "output_type": "execute_result"
    },
    {
     "data": {
      "image/png": "[encoded data removed]",
      "text/plain": [
       "<matplotlib.figure.Figure at 0x1125b2cf8>"
      ]
     },
     "metadata": {},
     "output_type": "display_data"
    }
   ],
   "source": [
    "plt.imshow(gm,cmap='gray')"
   ]
  },
  {
   "cell_type": "code",
   "execution_count": null,
   "metadata": {},
   "outputs": [],
   "source": [
    "misc.imsave(\"p5-7-7_gm.bmp\",gm)"
   ]
  },
  {
   "cell_type": "markdown",
   "metadata": {},
   "source": [
    "### (4) WM Prob"
   ]
  },
  {
   "cell_type": "code",
   "execution_count": 57,
   "metadata": {},
   "outputs": [],
   "source": [
    "wm=c[:,1]\n",
    "wm=wm.reshape((len(wm),1))\n",
    "probwm=np.zeros((fullpatch.shape[0],1,1))\n",
    "probwm[:,0,0]=fullpatch[:,0,0,0]\n",
    "probwm[index,0,0]=wm[:,0]\n",
    "wm=reconstruct_from_patches_2d(probwm,(height,height)) "
   ]
  },
  {
   "cell_type": "code",
   "execution_count": 59,
   "metadata": {},
   "outputs": [
    {
     "data": {
      "text/plain": [
       "<matplotlib.image.AxesImage at 0x127d07b70>"
      ]
     },
     "execution_count": 59,
     "metadata": {},
     "output_type": "execute_result"
    },
    {
     "data": {
      "image/png": "[encoded data removed]",
      "text/plain": [
       "<matplotlib.figure.Figure at 0x127d984a8>"
      ]
     },
     "metadata": {},
     "output_type": "display_data"
    }
   ],
   "source": [
    "plt.imshow(wm,cmap='gray')"
   ]
  },
  {
   "cell_type": "code",
   "execution_count": null,
   "metadata": {},
   "outputs": [],
   "source": [
    "misc.imsave(\"p5-7-7_wm.bmp\",wm)"
   ]
  },
  {
   "cell_type": "markdown",
   "metadata": {},
   "source": [
    "### (5) CSF Prob"
   ]
  },
  {
   "cell_type": "code",
   "execution_count": 64,
   "metadata": {},
   "outputs": [],
   "source": [
    "csf=c[:,2]\n",
    "csf=csf.reshape((len(csf),1))\n",
    "probcsf=np.zeros((fullpatch.shape[0],1,1))\n",
    "probcsf[:,0,0]=fullpatch[:,0,0,0]\n",
    "probcsf[index,0,0]=csf[:,0]\n",
    "csf=reconstruct_from_patches_2d(probcsf,(height,height)) "
   ]
  },
  {
   "cell_type": "code",
   "execution_count": 65,
   "metadata": {},
   "outputs": [
    {
     "data": {
      "text/plain": [
       "<matplotlib.image.AxesImage at 0x112813748>"
      ]
     },
     "execution_count": 65,
     "metadata": {},
     "output_type": "execute_result"
    },
    {
     "data": {
      "image/png": "[encoded data removed]",
      "text/plain": [
       "<matplotlib.figure.Figure at 0x127cf19b0>"
      ]
     },
     "metadata": {},
     "output_type": "display_data"
    }
   ],
   "source": [
    "plt.imshow(csf,cmap='gray')"
   ]
  },
  {
   "cell_type": "code",
   "execution_count": null,
   "metadata": {},
   "outputs": [],
   "source": [
    "misc.imsave(\"p19_csf.bmp\",csf)"
   ]
  }
 ],
 "metadata": {
  "kernelspec": {
   "display_name": "Python 3",
   "language": "python",
   "name": "python3"
  },
  "language_info": {
   "codemirror_mode": {
    "name": "ipython",
    "version": 3
   },
   "file_extension": ".py",
   "mimetype": "text/x-python",
   "name": "python",
   "nbconvert_exporter": "python",
   "pygments_lexer": "ipython3",
   "version": "3.5.4"
  }
 },
 "nbformat": 4,
 "nbformat_minor": 2
}
